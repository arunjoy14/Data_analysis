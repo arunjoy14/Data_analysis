{
 "cells": [
  {
   "cell_type": "markdown",
   "id": "caeb448e",
   "metadata": {},
   "source": [
    "# INFO 8065 Final Project"
   ]
  },
  {
   "cell_type": "markdown",
   "id": "b7fd3bd0",
   "metadata": {},
   "source": [
    "## Group 2 - \n",
    "### Team Name: Analytic Strategists\n",
    "### Members: \n",
    "#### 1.Abin Benny\n",
    "#### 2.Akshay Kochuparambil Joseph\n",
    "#### 3.Arun Joy\n",
    "#### 4.Sabarinath Sheela Jayamohan\n",
    "#### 5.Shalu Jose\n",
    "#### 6.Vidhiben Patel Nitinbhai \n"
   ]
  },
  {
   "cell_type": "code",
   "execution_count": 1,
   "id": "91cba507",
   "metadata": {},
   "outputs": [],
   "source": [
    "#importing required packages\n",
    "import pandas as pd\n",
    "import numpy as np\n",
    "import re\n",
    "import os\n",
    "import itertools"
   ]
  },
  {
   "cell_type": "code",
   "execution_count": 2,
   "id": "ec8bc524",
   "metadata": {},
   "outputs": [],
   "source": [
    "# importing data from excel file to Jupyter\n",
    "data=pd.read_excel('WA_Fn-UseC_-HR-Employee-Attrition.xlsx')"
   ]
  },
  {
   "cell_type": "markdown",
   "id": "84a041ed",
   "metadata": {},
   "source": [
    "### Cleaning Data if any"
   ]
  },
  {
   "cell_type": "code",
   "execution_count": 3,
   "id": "067566a4",
   "metadata": {
    "scrolled": true
   },
   "outputs": [
    {
     "name": "stdout",
     "output_type": "stream",
     "text": [
      "Age                         0\n",
      "Attrition                   0\n",
      "BusinessTravel              0\n",
      "DailyRate                   0\n",
      "Department                  0\n",
      "DistanceFromHome            0\n",
      "Education                   0\n",
      "EducationField              0\n",
      "EmployeeCount               0\n",
      "EmployeeNumber              0\n",
      "EnvironmentSatisfaction     0\n",
      "Gender                      0\n",
      "HourlyRate                  0\n",
      "JobInvolvement              0\n",
      "JobLevel                    0\n",
      "JobRole                     0\n",
      "JobSatisfaction             0\n",
      "MaritalStatus               0\n",
      "MonthlyIncome               0\n",
      "MonthlyRate                 0\n",
      "NumCompaniesWorked          0\n",
      "Over18                      0\n",
      "OverTime                    0\n",
      "PercentSalaryHike           0\n",
      "PerformanceRating           0\n",
      "RelationshipSatisfaction    0\n",
      "StandardHours               0\n",
      "StockOptionLevel            0\n",
      "TotalWorkingYears           0\n",
      "TrainingTimesLastYear       0\n",
      "WorkLifeBalance             0\n",
      "YearsAtCompany              0\n",
      "YearsInCurrentRole          0\n",
      "YearsSinceLastPromotion     0\n",
      "YearsWithCurrManager        0\n",
      "dtype: int64\n"
     ]
    }
   ],
   "source": [
    "#Checking data have any null value\n",
    "print(data.isnull().sum())"
   ]
  },
  {
   "cell_type": "markdown",
   "id": "f237973b",
   "metadata": {},
   "source": [
    "### Below lines helps to check if there is any spelling mistake, case sensitive issues or if any intger coloumn has character value etc"
   ]
  },
  {
   "cell_type": "code",
   "execution_count": 4,
   "id": "b71e8f8d",
   "metadata": {},
   "outputs": [
    {
     "data": {
      "text/plain": [
       "array([41, 49, 37, 33, 27, 32, 59, 30, 38, 36, 35, 29, 31, 34, 28, 22, 53,\n",
       "       24, 21, 42, 44, 46, 39, 43, 50, 26, 48, 55, 45, 56, 23, 51, 40, 54,\n",
       "       58, 20, 25, 19, 57, 52, 47, 18, 60], dtype=int64)"
      ]
     },
     "execution_count": 4,
     "metadata": {},
     "output_type": "execute_result"
    }
   ],
   "source": [
    "data['Age'].unique()"
   ]
  },
  {
   "cell_type": "code",
   "execution_count": 5,
   "id": "a8944c6d",
   "metadata": {},
   "outputs": [
    {
     "data": {
      "text/plain": [
       "array(['Travel_Rarely', 'Travel_Frequently', 'Non-Travel'], dtype=object)"
      ]
     },
     "execution_count": 5,
     "metadata": {},
     "output_type": "execute_result"
    }
   ],
   "source": [
    "data['BusinessTravel'].unique()"
   ]
  },
  {
   "cell_type": "code",
   "execution_count": 6,
   "id": "4e9009a8",
   "metadata": {},
   "outputs": [
    {
     "data": {
      "text/plain": [
       "array([1102,  279, 1373, 1392,  591, 1005, 1324, 1358,  216, 1299,  809,\n",
       "        153,  670, 1346,  103, 1389,  334, 1123, 1219,  371,  673, 1218,\n",
       "        419,  391,  699, 1282, 1125,  691,  477,  705,  924, 1459,  125,\n",
       "        895,  813, 1273,  869,  890,  852, 1141,  464, 1240, 1357,  994,\n",
       "        721, 1360, 1065,  408, 1211, 1229,  626, 1434, 1488, 1097, 1443,\n",
       "        515,  853, 1142,  655, 1115,  427,  653,  989, 1435, 1223,  836,\n",
       "       1195, 1339,  664,  318, 1225, 1328, 1082,  548,  132,  746,  776,\n",
       "        193,  397,  945, 1214,  111,  573, 1153, 1400,  541,  432,  288,\n",
       "        669,  530,  632, 1334,  638, 1093, 1217, 1353,  120,  682,  489,\n",
       "        807,  827,  871,  665, 1040, 1420,  240, 1280,  534, 1456,  658,\n",
       "        142, 1127, 1031, 1189, 1354, 1467,  922,  394, 1312,  750,  441,\n",
       "        684,  249,  841,  147,  528,  594,  470,  957,  542,  802, 1355,\n",
       "       1150, 1329,  959, 1033, 1316,  364,  438,  689,  201, 1427,  857,\n",
       "        933, 1181, 1395,  662, 1436,  194,  967, 1496, 1169, 1145,  630,\n",
       "        303, 1256,  440, 1450, 1452,  465,  702, 1157,  602, 1480, 1268,\n",
       "        713,  134,  526, 1380,  140,  629, 1356,  328, 1084,  931,  692,\n",
       "       1069,  313,  894,  556, 1344,  290,  138,  926, 1261,  472, 1002,\n",
       "        878,  905, 1180,  121, 1136,  635, 1151,  644, 1045,  829, 1242,\n",
       "       1469,  896,  992, 1052, 1147, 1396,  663,  119,  979,  319, 1413,\n",
       "        944, 1323,  532,  818,  854, 1034,  771, 1401, 1431,  976, 1411,\n",
       "       1300,  252, 1327,  832, 1017, 1199,  504,  505,  916, 1247,  685,\n",
       "        269, 1416,  833,  307, 1311,  128,  488,  529, 1210, 1463,  675,\n",
       "       1385, 1403,  452,  666, 1158,  228,  996,  728, 1315,  322, 1479,\n",
       "        797, 1070,  442,  496, 1372,  920,  688, 1449, 1117,  636,  506,\n",
       "        444,  950,  889,  555,  230, 1232,  566, 1302,  812, 1476,  218,\n",
       "       1132, 1105,  906,  849,  390,  106, 1249,  192,  553,  117,  185,\n",
       "       1091,  723, 1220,  588, 1377, 1018, 1275,  798,  672, 1162,  508,\n",
       "       1482,  559,  210,  928, 1001,  549, 1124,  738,  570, 1130, 1192,\n",
       "        343,  144, 1296, 1309,  483,  810,  544, 1062, 1319,  641, 1332,\n",
       "        756,  845,  593, 1171,  350,  921, 1144,  143, 1046,  575,  156,\n",
       "       1283,  755,  304, 1178,  329, 1362, 1371,  202,  253,  164, 1107,\n",
       "        759, 1305,  982,  821, 1381,  480, 1473,  891, 1063,  645, 1490,\n",
       "        317,  422, 1485, 1368, 1448,  296, 1398, 1349,  986, 1099, 1116,\n",
       "       1499,  983, 1009, 1303, 1274, 1277,  587,  413, 1276,  988, 1474,\n",
       "        163,  267,  619,  302,  443,  828,  561,  426,  232, 1306, 1094,\n",
       "        509,  775,  195,  258,  471,  799,  956,  535, 1495,  446, 1245,\n",
       "        703,  823, 1246,  622, 1287,  448,  254, 1365,  538,  525,  558,\n",
       "        782,  362, 1236, 1112,  204, 1343,  604, 1216,  646,  160,  238,\n",
       "       1397,  306,  991,  482, 1176,  913, 1076,  727,  885,  243,  806,\n",
       "        817, 1410, 1207, 1442,  693,  929,  562,  608,  580,  970, 1179,\n",
       "        294,  314,  316,  654,  168,  381,  217,  501,  650,  141,  804,\n",
       "        975, 1090,  346,  430,  268,  167,  621,  527,  883,  954,  310,\n",
       "        719,  725,  715,  657, 1146,  182,  376,  571,  384,  791, 1111,\n",
       "       1243, 1092, 1325,  805,  213,  118,  676, 1252,  286, 1258,  932,\n",
       "       1041,  859,  720,  946, 1184,  436,  589,  760,  887, 1318,  625,\n",
       "        180,  586, 1012,  661,  930,  342, 1230, 1271, 1278,  607,  130,\n",
       "        300,  583, 1418, 1269,  379,  395, 1265, 1222,  341,  868, 1231,\n",
       "        102,  881, 1383, 1075,  374, 1086,  781,  177,  500, 1425, 1454,\n",
       "        617, 1085,  995, 1122,  618,  546,  462, 1198, 1272,  154, 1137,\n",
       "       1188,  188, 1333,  867,  263,  938,  129,  616,  498, 1404, 1053,\n",
       "        289, 1376,  231,  152,  882,  903, 1379,  335,  722,  461,  974,\n",
       "       1126,  840, 1134,  248,  955,  939, 1391, 1206,  287, 1441,  109,\n",
       "       1066,  277,  466, 1055,  265,  135,  247, 1035,  266,  145, 1038,\n",
       "       1234, 1109, 1089,  788,  124,  660, 1186, 1464,  796,  415,  769,\n",
       "       1003, 1366,  330, 1492, 1204,  309, 1330,  469,  697, 1262, 1050,\n",
       "        770,  406,  203, 1308,  984,  439,  793, 1451, 1182,  174,  490,\n",
       "        718,  433,  773,  603,  874,  367,  199,  481,  647, 1384,  902,\n",
       "        819,  862, 1457,  977,  942, 1402, 1421, 1361,  917,  200,  150,\n",
       "        179,  696,  116,  363,  107, 1465,  458, 1212, 1103,  966, 1010,\n",
       "        326, 1098,  969, 1167,  694, 1320,  536,  373,  599,  251,  131,\n",
       "        237, 1429,  648,  735,  531,  429,  968,  879,  640,  412,  848,\n",
       "        360, 1138,  325, 1322,  299, 1030,  634,  524,  256, 1060,  935,\n",
       "        495,  282,  206,  943,  523,  507,  601,  855, 1291, 1405, 1369,\n",
       "        999, 1202,  285,  404,  736, 1498, 1200, 1439,  499,  205,  683,\n",
       "       1462,  949,  652,  332, 1475,  337,  971, 1174,  667,  560,  172,\n",
       "        383, 1255,  359,  401,  377,  592, 1445, 1221,  866,  981,  447,\n",
       "       1326,  748,  990,  405,  115,  790,  830, 1193, 1423,  467,  271,\n",
       "        410, 1083,  516,  224,  136, 1029,  333, 1440,  674, 1342,  898,\n",
       "        824,  492,  598,  740,  888, 1288,  104, 1108,  479, 1351,  474,\n",
       "        437,  884, 1370,  264, 1059,  563,  457, 1313,  241, 1015,  336,\n",
       "       1387,  170,  208,  671,  711,  737, 1470,  365,  763,  567,  486,\n",
       "        772,  301,  311,  584,  880,  392,  148,  708, 1259,  786,  370,\n",
       "        678,  146,  581,  918, 1238,  585,  741,  552,  369,  717,  543,\n",
       "        964,  792,  611,  176,  897,  600, 1054,  428,  181,  211, 1079,\n",
       "        590,  305,  953,  478, 1375,  244,  511, 1294,  196,  734, 1239,\n",
       "       1253, 1128, 1336,  234,  766,  261, 1194,  431,  572, 1422, 1297,\n",
       "        574,  355,  207,  706,  280,  726,  414,  352, 1224,  459, 1254,\n",
       "       1131,  835, 1172, 1266,  783,  219, 1213, 1096, 1251, 1394,  605,\n",
       "       1064, 1337,  937,  157,  754, 1168,  155, 1444,  189,  911, 1321,\n",
       "       1154,  557,  642,  801,  161, 1382, 1037,  105,  582,  704,  345,\n",
       "       1120, 1378,  468,  613, 1023,  628], dtype=int64)"
      ]
     },
     "execution_count": 6,
     "metadata": {},
     "output_type": "execute_result"
    }
   ],
   "source": [
    "data['DailyRate'].unique()"
   ]
  },
  {
   "cell_type": "code",
   "execution_count": 7,
   "id": "140ae9bf",
   "metadata": {},
   "outputs": [
    {
     "data": {
      "text/plain": [
       "array(['Sales', 'Research & Development', 'Human Resources'], dtype=object)"
      ]
     },
     "execution_count": 7,
     "metadata": {},
     "output_type": "execute_result"
    }
   ],
   "source": [
    "data['Department'].unique()"
   ]
  },
  {
   "cell_type": "code",
   "execution_count": 8,
   "id": "0a8d1d7a",
   "metadata": {},
   "outputs": [
    {
     "data": {
      "text/plain": [
       "array([ 1,  8,  2,  3, 24, 23, 27, 16, 15, 26, 19, 21,  5, 11,  9,  7,  6,\n",
       "       10,  4, 25, 12, 18, 29, 22, 14, 20, 28, 17, 13], dtype=int64)"
      ]
     },
     "execution_count": 8,
     "metadata": {},
     "output_type": "execute_result"
    }
   ],
   "source": [
    "data['DistanceFromHome'].unique()"
   ]
  },
  {
   "cell_type": "code",
   "execution_count": 9,
   "id": "0e2f7f29",
   "metadata": {},
   "outputs": [
    {
     "data": {
      "text/plain": [
       "array([2, 1, 4, 3, 5], dtype=int64)"
      ]
     },
     "execution_count": 9,
     "metadata": {},
     "output_type": "execute_result"
    }
   ],
   "source": [
    "data['Education'].unique()"
   ]
  },
  {
   "cell_type": "code",
   "execution_count": 10,
   "id": "526d0f72",
   "metadata": {},
   "outputs": [
    {
     "data": {
      "text/plain": [
       "array(['Life Sciences', 'Other', 'Medical', 'Marketing',\n",
       "       'Technical Degree', 'Human Resources'], dtype=object)"
      ]
     },
     "execution_count": 10,
     "metadata": {},
     "output_type": "execute_result"
    }
   ],
   "source": [
    "data['EducationField'].unique()"
   ]
  },
  {
   "cell_type": "code",
   "execution_count": 11,
   "id": "3c588170",
   "metadata": {
    "scrolled": true
   },
   "outputs": [
    {
     "data": {
      "text/plain": [
       "array([1], dtype=int64)"
      ]
     },
     "execution_count": 11,
     "metadata": {},
     "output_type": "execute_result"
    }
   ],
   "source": [
    "data['EmployeeCount'].unique()"
   ]
  },
  {
   "cell_type": "code",
   "execution_count": 12,
   "id": "aeaae69f",
   "metadata": {},
   "outputs": [
    {
     "data": {
      "text/plain": [
       "array([   1,    2,    4, ..., 2064, 2065, 2068], dtype=int64)"
      ]
     },
     "execution_count": 12,
     "metadata": {},
     "output_type": "execute_result"
    }
   ],
   "source": [
    "data['EmployeeNumber'].unique()"
   ]
  },
  {
   "cell_type": "code",
   "execution_count": 13,
   "id": "2a6770a5",
   "metadata": {},
   "outputs": [
    {
     "data": {
      "text/plain": [
       "array([2, 3, 4, 1], dtype=int64)"
      ]
     },
     "execution_count": 13,
     "metadata": {},
     "output_type": "execute_result"
    }
   ],
   "source": [
    "data['EnvironmentSatisfaction'].unique()"
   ]
  },
  {
   "cell_type": "code",
   "execution_count": 14,
   "id": "f051be92",
   "metadata": {},
   "outputs": [
    {
     "data": {
      "text/plain": [
       "array(['Female', 'Male'], dtype=object)"
      ]
     },
     "execution_count": 14,
     "metadata": {},
     "output_type": "execute_result"
    }
   ],
   "source": [
    "data['Gender'].unique()"
   ]
  },
  {
   "cell_type": "code",
   "execution_count": 15,
   "id": "13c123c5",
   "metadata": {},
   "outputs": [
    {
     "data": {
      "text/plain": [
       "array([ 94,  61,  92,  56,  40,  79,  81,  67,  44,  84,  49,  31,  93,\n",
       "        50,  51,  80,  96,  78,  45,  82,  53,  83,  58,  72,  48,  42,\n",
       "        41,  86,  97,  75,  33,  37,  73,  98,  36,  47,  71,  30,  43,\n",
       "        99,  59,  95,  57,  76,  87,  66,  55,  32,  52,  70,  62,  64,\n",
       "        63,  60, 100,  46,  39,  77,  35,  91,  54,  34,  90,  65,  88,\n",
       "        85,  89,  68,  69,  74,  38], dtype=int64)"
      ]
     },
     "execution_count": 15,
     "metadata": {},
     "output_type": "execute_result"
    }
   ],
   "source": [
    "data['HourlyRate'].unique()"
   ]
  },
  {
   "cell_type": "code",
   "execution_count": 16,
   "id": "00e419b1",
   "metadata": {},
   "outputs": [
    {
     "data": {
      "text/plain": [
       "array([3, 2, 4, 1], dtype=int64)"
      ]
     },
     "execution_count": 16,
     "metadata": {},
     "output_type": "execute_result"
    }
   ],
   "source": [
    "data['JobInvolvement'].unique()"
   ]
  },
  {
   "cell_type": "code",
   "execution_count": 17,
   "id": "41c0e54a",
   "metadata": {
    "scrolled": true
   },
   "outputs": [
    {
     "data": {
      "text/plain": [
       "array([2, 1, 3, 4, 5], dtype=int64)"
      ]
     },
     "execution_count": 17,
     "metadata": {},
     "output_type": "execute_result"
    }
   ],
   "source": [
    "data['JobLevel'].unique()"
   ]
  },
  {
   "cell_type": "code",
   "execution_count": 18,
   "id": "78612a4a",
   "metadata": {},
   "outputs": [
    {
     "data": {
      "text/plain": [
       "array(['Sales Executive', 'Research Scientist', 'Laboratory Technician',\n",
       "       'Manufacturing Director', 'Healthcare Representative', 'Manager',\n",
       "       'Sales Representative', 'Research Director', 'Human Resources'],\n",
       "      dtype=object)"
      ]
     },
     "execution_count": 18,
     "metadata": {},
     "output_type": "execute_result"
    }
   ],
   "source": [
    "data['JobRole'].unique()"
   ]
  },
  {
   "cell_type": "code",
   "execution_count": 19,
   "id": "3eb0ab55",
   "metadata": {},
   "outputs": [
    {
     "data": {
      "text/plain": [
       "array([4, 2, 3, 1], dtype=int64)"
      ]
     },
     "execution_count": 19,
     "metadata": {},
     "output_type": "execute_result"
    }
   ],
   "source": [
    "data['JobSatisfaction'].unique()"
   ]
  },
  {
   "cell_type": "code",
   "execution_count": 20,
   "id": "f8d85dee",
   "metadata": {},
   "outputs": [
    {
     "data": {
      "text/plain": [
       "array(['Single', 'Married', 'Divorced'], dtype=object)"
      ]
     },
     "execution_count": 20,
     "metadata": {},
     "output_type": "execute_result"
    }
   ],
   "source": [
    "data['MaritalStatus'].unique()"
   ]
  },
  {
   "cell_type": "code",
   "execution_count": 21,
   "id": "211e474f",
   "metadata": {},
   "outputs": [
    {
     "data": {
      "text/plain": [
       "array([5993, 5130, 2090, ..., 9991, 5390, 4404], dtype=int64)"
      ]
     },
     "execution_count": 21,
     "metadata": {},
     "output_type": "execute_result"
    }
   ],
   "source": [
    "data['MonthlyIncome'].unique()"
   ]
  },
  {
   "cell_type": "code",
   "execution_count": 22,
   "id": "fbe127f6",
   "metadata": {},
   "outputs": [
    {
     "data": {
      "text/plain": [
       "array([19479, 24907,  2396, ...,  5174, 13243, 10228], dtype=int64)"
      ]
     },
     "execution_count": 22,
     "metadata": {},
     "output_type": "execute_result"
    }
   ],
   "source": [
    "data['MonthlyRate'].unique()"
   ]
  },
  {
   "cell_type": "code",
   "execution_count": 23,
   "id": "0f64aeb5",
   "metadata": {
    "scrolled": true
   },
   "outputs": [
    {
     "data": {
      "text/plain": [
       "array([8, 1, 6, 9, 0, 4, 5, 2, 7, 3], dtype=int64)"
      ]
     },
     "execution_count": 23,
     "metadata": {},
     "output_type": "execute_result"
    }
   ],
   "source": [
    "data['NumCompaniesWorked'].unique()"
   ]
  },
  {
   "cell_type": "code",
   "execution_count": 24,
   "id": "a9b7e1a1",
   "metadata": {},
   "outputs": [
    {
     "data": {
      "text/plain": [
       "array(['Y'], dtype=object)"
      ]
     },
     "execution_count": 24,
     "metadata": {},
     "output_type": "execute_result"
    }
   ],
   "source": [
    "data['Over18'].unique()"
   ]
  },
  {
   "cell_type": "code",
   "execution_count": 25,
   "id": "842c0a1d",
   "metadata": {},
   "outputs": [
    {
     "data": {
      "text/plain": [
       "array(['Yes', 'No'], dtype=object)"
      ]
     },
     "execution_count": 25,
     "metadata": {},
     "output_type": "execute_result"
    }
   ],
   "source": [
    "data['OverTime'].unique()"
   ]
  },
  {
   "cell_type": "code",
   "execution_count": 26,
   "id": "e7ea8941",
   "metadata": {},
   "outputs": [
    {
     "data": {
      "text/plain": [
       "array([11, 23, 15, 12, 13, 20, 22, 21, 17, 14, 16, 18, 19, 24, 25],\n",
       "      dtype=int64)"
      ]
     },
     "execution_count": 26,
     "metadata": {},
     "output_type": "execute_result"
    }
   ],
   "source": [
    "data['PercentSalaryHike'].unique()"
   ]
  },
  {
   "cell_type": "code",
   "execution_count": 27,
   "id": "d07b26b9",
   "metadata": {},
   "outputs": [
    {
     "data": {
      "text/plain": [
       "array([3, 4], dtype=int64)"
      ]
     },
     "execution_count": 27,
     "metadata": {},
     "output_type": "execute_result"
    }
   ],
   "source": [
    "data['PerformanceRating'].unique()"
   ]
  },
  {
   "cell_type": "code",
   "execution_count": 28,
   "id": "15a48382",
   "metadata": {},
   "outputs": [
    {
     "data": {
      "text/plain": [
       "array([1, 4, 2, 3], dtype=int64)"
      ]
     },
     "execution_count": 28,
     "metadata": {},
     "output_type": "execute_result"
    }
   ],
   "source": [
    "data['RelationshipSatisfaction'].unique()"
   ]
  },
  {
   "cell_type": "code",
   "execution_count": 29,
   "id": "4d6bf621",
   "metadata": {},
   "outputs": [
    {
     "data": {
      "text/plain": [
       "array([80], dtype=int64)"
      ]
     },
     "execution_count": 29,
     "metadata": {},
     "output_type": "execute_result"
    }
   ],
   "source": [
    "data['StandardHours'].unique()"
   ]
  },
  {
   "cell_type": "code",
   "execution_count": 30,
   "id": "9932d6e7",
   "metadata": {},
   "outputs": [
    {
     "data": {
      "text/plain": [
       "array([0, 1, 3, 2], dtype=int64)"
      ]
     },
     "execution_count": 30,
     "metadata": {},
     "output_type": "execute_result"
    }
   ],
   "source": [
    "data['StockOptionLevel'].unique()\n"
   ]
  },
  {
   "cell_type": "code",
   "execution_count": 31,
   "id": "7f97042e",
   "metadata": {},
   "outputs": [
    {
     "data": {
      "text/plain": [
       "array([ 8, 10,  7,  6, 12,  1, 17,  5,  3, 31, 13,  0, 26, 24, 22,  9, 19,\n",
       "        2, 23, 14, 15,  4, 29, 28, 21, 25, 20, 11, 16, 37, 38, 30, 40, 18,\n",
       "       36, 34, 32, 33, 35, 27], dtype=int64)"
      ]
     },
     "execution_count": 31,
     "metadata": {},
     "output_type": "execute_result"
    }
   ],
   "source": [
    "data['TotalWorkingYears'].unique()"
   ]
  },
  {
   "cell_type": "code",
   "execution_count": 32,
   "id": "54867600",
   "metadata": {},
   "outputs": [
    {
     "data": {
      "text/plain": [
       "array([0, 3, 2, 5, 1, 4, 6], dtype=int64)"
      ]
     },
     "execution_count": 32,
     "metadata": {},
     "output_type": "execute_result"
    }
   ],
   "source": [
    "data['TrainingTimesLastYear'].unique()"
   ]
  },
  {
   "cell_type": "code",
   "execution_count": 33,
   "id": "7a77666b",
   "metadata": {},
   "outputs": [],
   "source": [
    "\n",
    "#Any coloumn with only space is changes to none\n",
    "data=data.replace(' ',None)\n",
    "#Deleting any coloumn or row with no values\n",
    "data=data.dropna(how='all', axis = 0)\n",
    "data=data.dropna(how='all', axis = 1)\n",
    "#Remove any leading or trailing white spaces from the column names\n",
    "data.columns=data.columns.str.strip()"
   ]
  },
  {
   "cell_type": "code",
   "execution_count": 34,
   "id": "522fd1d5",
   "metadata": {},
   "outputs": [
    {
     "data": {
      "text/html": [
       "<div>\n",
       "<style scoped>\n",
       "    .dataframe tbody tr th:only-of-type {\n",
       "        vertical-align: middle;\n",
       "    }\n",
       "\n",
       "    .dataframe tbody tr th {\n",
       "        vertical-align: top;\n",
       "    }\n",
       "\n",
       "    .dataframe thead th {\n",
       "        text-align: right;\n",
       "    }\n",
       "</style>\n",
       "<table border=\"1\" class=\"dataframe\">\n",
       "  <thead>\n",
       "    <tr style=\"text-align: right;\">\n",
       "      <th></th>\n",
       "      <th>Age</th>\n",
       "      <th>Attrition</th>\n",
       "      <th>BusinessTravel</th>\n",
       "      <th>DailyRate</th>\n",
       "      <th>Department</th>\n",
       "      <th>DistanceFromHome</th>\n",
       "      <th>Education</th>\n",
       "      <th>EducationField</th>\n",
       "      <th>EmployeeCount</th>\n",
       "      <th>EmployeeNumber</th>\n",
       "      <th>...</th>\n",
       "      <th>RelationshipSatisfaction</th>\n",
       "      <th>StandardHours</th>\n",
       "      <th>StockOptionLevel</th>\n",
       "      <th>TotalWorkingYears</th>\n",
       "      <th>TrainingTimesLastYear</th>\n",
       "      <th>WorkLifeBalance</th>\n",
       "      <th>YearsAtCompany</th>\n",
       "      <th>YearsInCurrentRole</th>\n",
       "      <th>YearsSinceLastPromotion</th>\n",
       "      <th>YearsWithCurrManager</th>\n",
       "    </tr>\n",
       "  </thead>\n",
       "  <tbody>\n",
       "    <tr>\n",
       "      <th>0</th>\n",
       "      <td>41</td>\n",
       "      <td>Yes</td>\n",
       "      <td>Travel_Rarely</td>\n",
       "      <td>1102</td>\n",
       "      <td>Sales</td>\n",
       "      <td>1</td>\n",
       "      <td>2</td>\n",
       "      <td>Life Sciences</td>\n",
       "      <td>1</td>\n",
       "      <td>1</td>\n",
       "      <td>...</td>\n",
       "      <td>1</td>\n",
       "      <td>80</td>\n",
       "      <td>0</td>\n",
       "      <td>8</td>\n",
       "      <td>0</td>\n",
       "      <td>1</td>\n",
       "      <td>6</td>\n",
       "      <td>4</td>\n",
       "      <td>0</td>\n",
       "      <td>5</td>\n",
       "    </tr>\n",
       "    <tr>\n",
       "      <th>1</th>\n",
       "      <td>49</td>\n",
       "      <td>No</td>\n",
       "      <td>Travel_Frequently</td>\n",
       "      <td>279</td>\n",
       "      <td>Research &amp; Development</td>\n",
       "      <td>8</td>\n",
       "      <td>1</td>\n",
       "      <td>Life Sciences</td>\n",
       "      <td>1</td>\n",
       "      <td>2</td>\n",
       "      <td>...</td>\n",
       "      <td>4</td>\n",
       "      <td>80</td>\n",
       "      <td>1</td>\n",
       "      <td>10</td>\n",
       "      <td>3</td>\n",
       "      <td>3</td>\n",
       "      <td>10</td>\n",
       "      <td>7</td>\n",
       "      <td>1</td>\n",
       "      <td>7</td>\n",
       "    </tr>\n",
       "    <tr>\n",
       "      <th>2</th>\n",
       "      <td>37</td>\n",
       "      <td>Yes</td>\n",
       "      <td>Travel_Rarely</td>\n",
       "      <td>1373</td>\n",
       "      <td>Research &amp; Development</td>\n",
       "      <td>2</td>\n",
       "      <td>2</td>\n",
       "      <td>Other</td>\n",
       "      <td>1</td>\n",
       "      <td>4</td>\n",
       "      <td>...</td>\n",
       "      <td>2</td>\n",
       "      <td>80</td>\n",
       "      <td>0</td>\n",
       "      <td>7</td>\n",
       "      <td>3</td>\n",
       "      <td>3</td>\n",
       "      <td>0</td>\n",
       "      <td>0</td>\n",
       "      <td>0</td>\n",
       "      <td>0</td>\n",
       "    </tr>\n",
       "    <tr>\n",
       "      <th>3</th>\n",
       "      <td>33</td>\n",
       "      <td>No</td>\n",
       "      <td>Travel_Frequently</td>\n",
       "      <td>1392</td>\n",
       "      <td>Research &amp; Development</td>\n",
       "      <td>3</td>\n",
       "      <td>4</td>\n",
       "      <td>Life Sciences</td>\n",
       "      <td>1</td>\n",
       "      <td>5</td>\n",
       "      <td>...</td>\n",
       "      <td>3</td>\n",
       "      <td>80</td>\n",
       "      <td>0</td>\n",
       "      <td>8</td>\n",
       "      <td>3</td>\n",
       "      <td>3</td>\n",
       "      <td>8</td>\n",
       "      <td>7</td>\n",
       "      <td>3</td>\n",
       "      <td>0</td>\n",
       "    </tr>\n",
       "    <tr>\n",
       "      <th>4</th>\n",
       "      <td>27</td>\n",
       "      <td>No</td>\n",
       "      <td>Travel_Rarely</td>\n",
       "      <td>591</td>\n",
       "      <td>Research &amp; Development</td>\n",
       "      <td>2</td>\n",
       "      <td>1</td>\n",
       "      <td>Medical</td>\n",
       "      <td>1</td>\n",
       "      <td>7</td>\n",
       "      <td>...</td>\n",
       "      <td>4</td>\n",
       "      <td>80</td>\n",
       "      <td>1</td>\n",
       "      <td>6</td>\n",
       "      <td>3</td>\n",
       "      <td>3</td>\n",
       "      <td>2</td>\n",
       "      <td>2</td>\n",
       "      <td>2</td>\n",
       "      <td>2</td>\n",
       "    </tr>\n",
       "    <tr>\n",
       "      <th>...</th>\n",
       "      <td>...</td>\n",
       "      <td>...</td>\n",
       "      <td>...</td>\n",
       "      <td>...</td>\n",
       "      <td>...</td>\n",
       "      <td>...</td>\n",
       "      <td>...</td>\n",
       "      <td>...</td>\n",
       "      <td>...</td>\n",
       "      <td>...</td>\n",
       "      <td>...</td>\n",
       "      <td>...</td>\n",
       "      <td>...</td>\n",
       "      <td>...</td>\n",
       "      <td>...</td>\n",
       "      <td>...</td>\n",
       "      <td>...</td>\n",
       "      <td>...</td>\n",
       "      <td>...</td>\n",
       "      <td>...</td>\n",
       "      <td>...</td>\n",
       "    </tr>\n",
       "    <tr>\n",
       "      <th>1465</th>\n",
       "      <td>36</td>\n",
       "      <td>No</td>\n",
       "      <td>Travel_Frequently</td>\n",
       "      <td>884</td>\n",
       "      <td>Research &amp; Development</td>\n",
       "      <td>23</td>\n",
       "      <td>2</td>\n",
       "      <td>Medical</td>\n",
       "      <td>1</td>\n",
       "      <td>2061</td>\n",
       "      <td>...</td>\n",
       "      <td>3</td>\n",
       "      <td>80</td>\n",
       "      <td>1</td>\n",
       "      <td>17</td>\n",
       "      <td>3</td>\n",
       "      <td>3</td>\n",
       "      <td>5</td>\n",
       "      <td>2</td>\n",
       "      <td>0</td>\n",
       "      <td>3</td>\n",
       "    </tr>\n",
       "    <tr>\n",
       "      <th>1466</th>\n",
       "      <td>39</td>\n",
       "      <td>No</td>\n",
       "      <td>Travel_Rarely</td>\n",
       "      <td>613</td>\n",
       "      <td>Research &amp; Development</td>\n",
       "      <td>6</td>\n",
       "      <td>1</td>\n",
       "      <td>Medical</td>\n",
       "      <td>1</td>\n",
       "      <td>2062</td>\n",
       "      <td>...</td>\n",
       "      <td>1</td>\n",
       "      <td>80</td>\n",
       "      <td>1</td>\n",
       "      <td>9</td>\n",
       "      <td>5</td>\n",
       "      <td>3</td>\n",
       "      <td>7</td>\n",
       "      <td>7</td>\n",
       "      <td>1</td>\n",
       "      <td>7</td>\n",
       "    </tr>\n",
       "    <tr>\n",
       "      <th>1467</th>\n",
       "      <td>27</td>\n",
       "      <td>No</td>\n",
       "      <td>Travel_Rarely</td>\n",
       "      <td>155</td>\n",
       "      <td>Research &amp; Development</td>\n",
       "      <td>4</td>\n",
       "      <td>3</td>\n",
       "      <td>Life Sciences</td>\n",
       "      <td>1</td>\n",
       "      <td>2064</td>\n",
       "      <td>...</td>\n",
       "      <td>2</td>\n",
       "      <td>80</td>\n",
       "      <td>1</td>\n",
       "      <td>6</td>\n",
       "      <td>0</td>\n",
       "      <td>3</td>\n",
       "      <td>6</td>\n",
       "      <td>2</td>\n",
       "      <td>0</td>\n",
       "      <td>3</td>\n",
       "    </tr>\n",
       "    <tr>\n",
       "      <th>1468</th>\n",
       "      <td>49</td>\n",
       "      <td>No</td>\n",
       "      <td>Travel_Frequently</td>\n",
       "      <td>1023</td>\n",
       "      <td>Sales</td>\n",
       "      <td>2</td>\n",
       "      <td>3</td>\n",
       "      <td>Medical</td>\n",
       "      <td>1</td>\n",
       "      <td>2065</td>\n",
       "      <td>...</td>\n",
       "      <td>4</td>\n",
       "      <td>80</td>\n",
       "      <td>0</td>\n",
       "      <td>17</td>\n",
       "      <td>3</td>\n",
       "      <td>2</td>\n",
       "      <td>9</td>\n",
       "      <td>6</td>\n",
       "      <td>0</td>\n",
       "      <td>8</td>\n",
       "    </tr>\n",
       "    <tr>\n",
       "      <th>1469</th>\n",
       "      <td>34</td>\n",
       "      <td>No</td>\n",
       "      <td>Travel_Rarely</td>\n",
       "      <td>628</td>\n",
       "      <td>Research &amp; Development</td>\n",
       "      <td>8</td>\n",
       "      <td>3</td>\n",
       "      <td>Medical</td>\n",
       "      <td>1</td>\n",
       "      <td>2068</td>\n",
       "      <td>...</td>\n",
       "      <td>1</td>\n",
       "      <td>80</td>\n",
       "      <td>0</td>\n",
       "      <td>6</td>\n",
       "      <td>3</td>\n",
       "      <td>4</td>\n",
       "      <td>4</td>\n",
       "      <td>3</td>\n",
       "      <td>1</td>\n",
       "      <td>2</td>\n",
       "    </tr>\n",
       "  </tbody>\n",
       "</table>\n",
       "<p>1470 rows × 35 columns</p>\n",
       "</div>"
      ],
      "text/plain": [
       "      Age Attrition     BusinessTravel  DailyRate              Department  \\\n",
       "0      41       Yes      Travel_Rarely       1102                   Sales   \n",
       "1      49        No  Travel_Frequently        279  Research & Development   \n",
       "2      37       Yes      Travel_Rarely       1373  Research & Development   \n",
       "3      33        No  Travel_Frequently       1392  Research & Development   \n",
       "4      27        No      Travel_Rarely        591  Research & Development   \n",
       "...   ...       ...                ...        ...                     ...   \n",
       "1465   36        No  Travel_Frequently        884  Research & Development   \n",
       "1466   39        No      Travel_Rarely        613  Research & Development   \n",
       "1467   27        No      Travel_Rarely        155  Research & Development   \n",
       "1468   49        No  Travel_Frequently       1023                   Sales   \n",
       "1469   34        No      Travel_Rarely        628  Research & Development   \n",
       "\n",
       "      DistanceFromHome  Education EducationField  EmployeeCount  \\\n",
       "0                    1          2  Life Sciences              1   \n",
       "1                    8          1  Life Sciences              1   \n",
       "2                    2          2          Other              1   \n",
       "3                    3          4  Life Sciences              1   \n",
       "4                    2          1        Medical              1   \n",
       "...                ...        ...            ...            ...   \n",
       "1465                23          2        Medical              1   \n",
       "1466                 6          1        Medical              1   \n",
       "1467                 4          3  Life Sciences              1   \n",
       "1468                 2          3        Medical              1   \n",
       "1469                 8          3        Medical              1   \n",
       "\n",
       "      EmployeeNumber  ...  RelationshipSatisfaction StandardHours  \\\n",
       "0                  1  ...                         1            80   \n",
       "1                  2  ...                         4            80   \n",
       "2                  4  ...                         2            80   \n",
       "3                  5  ...                         3            80   \n",
       "4                  7  ...                         4            80   \n",
       "...              ...  ...                       ...           ...   \n",
       "1465            2061  ...                         3            80   \n",
       "1466            2062  ...                         1            80   \n",
       "1467            2064  ...                         2            80   \n",
       "1468            2065  ...                         4            80   \n",
       "1469            2068  ...                         1            80   \n",
       "\n",
       "      StockOptionLevel  TotalWorkingYears  TrainingTimesLastYear  \\\n",
       "0                    0                  8                      0   \n",
       "1                    1                 10                      3   \n",
       "2                    0                  7                      3   \n",
       "3                    0                  8                      3   \n",
       "4                    1                  6                      3   \n",
       "...                ...                ...                    ...   \n",
       "1465                 1                 17                      3   \n",
       "1466                 1                  9                      5   \n",
       "1467                 1                  6                      0   \n",
       "1468                 0                 17                      3   \n",
       "1469                 0                  6                      3   \n",
       "\n",
       "     WorkLifeBalance  YearsAtCompany YearsInCurrentRole  \\\n",
       "0                  1               6                  4   \n",
       "1                  3              10                  7   \n",
       "2                  3               0                  0   \n",
       "3                  3               8                  7   \n",
       "4                  3               2                  2   \n",
       "...              ...             ...                ...   \n",
       "1465               3               5                  2   \n",
       "1466               3               7                  7   \n",
       "1467               3               6                  2   \n",
       "1468               2               9                  6   \n",
       "1469               4               4                  3   \n",
       "\n",
       "      YearsSinceLastPromotion  YearsWithCurrManager  \n",
       "0                           0                     5  \n",
       "1                           1                     7  \n",
       "2                           0                     0  \n",
       "3                           3                     0  \n",
       "4                           2                     2  \n",
       "...                       ...                   ...  \n",
       "1465                        0                     3  \n",
       "1466                        1                     7  \n",
       "1467                        0                     3  \n",
       "1468                        0                     8  \n",
       "1469                        1                     2  \n",
       "\n",
       "[1470 rows x 35 columns]"
      ]
     },
     "execution_count": 34,
     "metadata": {},
     "output_type": "execute_result"
    }
   ],
   "source": [
    "data"
   ]
  },
  {
   "cell_type": "code",
   "execution_count": null,
   "id": "e74c9e9a",
   "metadata": {},
   "outputs": [],
   "source": []
  },
  {
   "cell_type": "markdown",
   "id": "e2406f44",
   "metadata": {},
   "source": [
    "## Stage 1 analysis involves checking each column's effect on the attrition rate in a dataset.\n",
    "### This analysis can help identify which columns may be the most important predictors of attrition, and can guide further analysis."
   ]
  },
  {
   "cell_type": "code",
   "execution_count": 35,
   "id": "b814b72e",
   "metadata": {},
   "outputs": [
    {
     "data": {
      "text/plain": [
       "0     73\n",
       "2     68\n",
       "7     31\n",
       "3     16\n",
       "4     15\n",
       "1     11\n",
       "8      7\n",
       "9      6\n",
       "15     2\n",
       "10     2\n",
       "6      2\n",
       "14     1\n",
       "13     1\n",
       "12     1\n",
       "5      1\n",
       "Name: YearsInCurrentRole, dtype: int64"
      ]
     },
     "execution_count": 35,
     "metadata": {},
     "output_type": "execute_result"
    }
   ],
   "source": [
    "#Years in currentrole against attrition\n",
    "count=data.loc[data['Attrition'] == 'Yes','YearsInCurrentRole'].value_counts()\n",
    "count\n"
   ]
  },
  {
   "cell_type": "code",
   "execution_count": 36,
   "id": "f0abfdb5",
   "metadata": {},
   "outputs": [],
   "source": [
    "# Analysis: People with 0,2,7,3,4 years in current position tend to leave, not significant"
   ]
  },
  {
   "cell_type": "code",
   "execution_count": 37,
   "id": "ce3b4650",
   "metadata": {},
   "outputs": [
    {
     "data": {
      "text/plain": [
       "YearInterval\n",
       "0-10     201\n",
       "10-20     12\n",
       "20-30      4\n",
       "30-40      4\n",
       "dtype: int64"
      ]
     },
     "execution_count": 37,
     "metadata": {},
     "output_type": "execute_result"
    }
   ],
   "source": [
    "#Total years(intervals considered) at company against attrition\n",
    "# Define the year intervals\n",
    "bins = [0, 10, 20, 30, 40]\n",
    "\n",
    "# Label the age intervals\n",
    "labels = ['0-10', '10-20', '20-30', '30-40']\n",
    "data['YearInterval'] = pd.cut(data['YearsAtCompany'], bins=bins, labels=labels)\n",
    "\n",
    "# Calculate the count of employees with attrition 'Yes' for each year interval\n",
    "count = data.loc[data['Attrition'] == 'Yes'].groupby(['YearInterval']).size()\n",
    "\n",
    "count"
   ]
  },
  {
   "cell_type": "code",
   "execution_count": 38,
   "id": "717b1db6",
   "metadata": {},
   "outputs": [],
   "source": [
    "#  Analysis:people with 0 - 10 years experience in the company tends to leave, mainly people with less experience leave"
   ]
  },
  {
   "cell_type": "code",
   "execution_count": 39,
   "id": "9ba18c82",
   "metadata": {},
   "outputs": [
    {
     "data": {
      "text/plain": [
       "3    127\n",
       "2     58\n",
       "4     27\n",
       "1     25\n",
       "Name: WorkLifeBalance, dtype: int64"
      ]
     },
     "execution_count": 39,
     "metadata": {},
     "output_type": "execute_result"
    }
   ],
   "source": [
    "#WorkLifeBalance\n",
    "#1 'Bad'\n",
    "#2 'Good'\n",
    "#3 'Better'\n",
    "#4 'Best'\n",
    "count=data.loc[data['Attrition'] == 'Yes','WorkLifeBalance'].value_counts()\n",
    "count"
   ]
  },
  {
   "cell_type": "code",
   "execution_count": 40,
   "id": "2ddfb0fb",
   "metadata": {},
   "outputs": [],
   "source": [
    "# Analysis:People with moderat worklife balance tend to move ,which means this is not the factor that effect the attrition, not significant"
   ]
  },
  {
   "cell_type": "code",
   "execution_count": 41,
   "id": "3142a302",
   "metadata": {},
   "outputs": [
    {
     "data": {
      "text/plain": [
       "2    98\n",
       "3    69\n",
       "4    26\n",
       "0    15\n",
       "5    14\n",
       "1     9\n",
       "6     6\n",
       "Name: TrainingTimesLastYear, dtype: int64"
      ]
     },
     "execution_count": 41,
     "metadata": {},
     "output_type": "execute_result"
    }
   ],
   "source": [
    "#Attrition against the training hours for last year\n",
    "#TrainingTimesLastYear gives count of no of times they got trained\n",
    "count=data.loc[data['Attrition'] == 'Yes','TrainingTimesLastYear'].value_counts()\n",
    "count"
   ]
  },
  {
   "cell_type": "code",
   "execution_count": 42,
   "id": "62d73dcc",
   "metadata": {},
   "outputs": [],
   "source": [
    "# Analysis:people who left comes from the moderate traing group, not significant"
   ]
  },
  {
   "cell_type": "code",
   "execution_count": 43,
   "id": "59be2399",
   "metadata": {
    "scrolled": true
   },
   "outputs": [
    {
     "data": {
      "text/plain": [
       "YearInterval\n",
       "0-10     177\n",
       "10-20     39\n",
       "20-30     11\n",
       "30-40      5\n",
       "dtype: int64"
      ]
     },
     "execution_count": 43,
     "metadata": {},
     "output_type": "execute_result"
    }
   ],
   "source": [
    "#Attrition against total years of working against age interval\n",
    "# Define the year intervals\n",
    "bins = [0, 10, 20, 30, 40]\n",
    "\n",
    "# Label the age intervals\n",
    "labels = ['0-10', '10-20', '20-30', '30-40']\n",
    "\n",
    "# Create a new column for year intervals\n",
    "data['YearInterval'] = pd.cut(data['TotalWorkingYears'], bins=bins, labels=labels)\n",
    "\n",
    "# Calculate the count of employees with attrition 'Yes' for each year interval\n",
    "count = data.loc[data['Attrition'] == 'Yes'].groupby(['YearInterval']).size()\n",
    "count\n",
    "\n"
   ]
  },
  {
   "cell_type": "code",
   "execution_count": 44,
   "id": "e56cbb20",
   "metadata": {},
   "outputs": [],
   "source": [
    "# Analysis: People with less than 10 years of total experience tends to leave the company, so choosing people with higher experience tha 10 years may help in reducing attrition. "
   ]
  },
  {
   "cell_type": "code",
   "execution_count": 45,
   "id": "c8dc2674",
   "metadata": {},
   "outputs": [
    {
     "data": {
      "text/plain": [
       "0     110\n",
       "1      49\n",
       "2      27\n",
       "7      16\n",
       "3       9\n",
       "6       6\n",
       "4       5\n",
       "9       4\n",
       "15      3\n",
       "13      2\n",
       "11      2\n",
       "5       2\n",
       "10      1\n",
       "14      1\n",
       "Name: YearsSinceLastPromotion, dtype: int64"
      ]
     },
     "execution_count": 45,
     "metadata": {},
     "output_type": "execute_result"
    }
   ],
   "source": [
    "#Attrition against YearsSinceLastPromotion\n",
    "count=data.loc[data['Attrition'] == 'Yes','YearsSinceLastPromotion'].value_counts()\n",
    "count"
   ]
  },
  {
   "cell_type": "code",
   "execution_count": 46,
   "id": "58e61f69",
   "metadata": {},
   "outputs": [],
   "source": [
    "#Analysis:Those who were promoted in the recent years are leaving more,\n",
    "#Reasons can be\n",
    "#1.They may believ that they are incapable of this position /  they are incapabe\n",
    "#2. they got promotion but is not satisfied with some other criteria and have changed \n"
   ]
  },
  {
   "cell_type": "code",
   "execution_count": 47,
   "id": "71d589e1",
   "metadata": {},
   "outputs": [
    {
     "data": {
      "text/plain": [
       "0     85\n",
       "2     50\n",
       "7     31\n",
       "3     19\n",
       "1     11\n",
       "4     11\n",
       "8     10\n",
       "9      6\n",
       "5      4\n",
       "6      4\n",
       "10     3\n",
       "14     2\n",
       "11     1\n",
       "Name: YearsWithCurrManager, dtype: int64"
      ]
     },
     "execution_count": 47,
     "metadata": {},
     "output_type": "execute_result"
    }
   ],
   "source": [
    "# Attrition against number of years with current Manager\n",
    "count=data.loc[data['Attrition'] == 'Yes','YearsWithCurrManager'].value_counts()\n",
    "count"
   ]
  },
  {
   "cell_type": "code",
   "execution_count": 48,
   "id": "6159d046",
   "metadata": {},
   "outputs": [],
   "source": [
    "# Analysis: Employees under same manager for long time( more than 8 years) do not tends to leave.\n",
    "#Employees who have been working with the current managers for a short period of time tends to leave"
   ]
  },
  {
   "cell_type": "code",
   "execution_count": 49,
   "id": "6f6c1c3e",
   "metadata": {},
   "outputs": [
    {
     "data": {
      "text/plain": [
       "AgeInterval\n",
       "below 20    16\n",
       "20-30       84\n",
       "30-40       85\n",
       "above 40    34\n",
       "dtype: int64"
      ]
     },
     "execution_count": 49,
     "metadata": {},
     "output_type": "execute_result"
    }
   ],
   "source": [
    "#Attrition against age interval\n",
    "# Define the age intervals\n",
    "bins = [0, 20, 30, 40, 50]\n",
    "\n",
    "# Label the age intervals\n",
    "labels = ['below 20', '20-30', '30-40', 'above 40']\n",
    "\n",
    "# Create a new column for age intervals\n",
    "data['AgeInterval'] = pd.cut(data['Age'], bins=bins, labels=labels)\n",
    "\n",
    "# Calculate the count of employees with attrition 'Yes' for each age interval\n",
    "count = data.loc[data['Attrition'] == 'Yes'].groupby(['AgeInterval']).size()\n",
    "count\n"
   ]
  },
  {
   "cell_type": "code",
   "execution_count": 50,
   "id": "643c5c1b",
   "metadata": {},
   "outputs": [],
   "source": [
    "# Analysis: Employee in the age interval 20-40 tends to leave the firm, \n",
    "#creating some factors to attract the people in this age group may support in reducing the attrition"
   ]
  },
  {
   "cell_type": "code",
   "execution_count": 51,
   "id": "03e69955",
   "metadata": {},
   "outputs": [
    {
     "data": {
      "text/plain": [
       "Travel_Rarely        156\n",
       "Travel_Frequently     69\n",
       "Non-Travel            12\n",
       "Name: BusinessTravel, dtype: int64"
      ]
     },
     "execution_count": 51,
     "metadata": {},
     "output_type": "execute_result"
    }
   ],
   "source": [
    "#Attrition against business traveling type\n",
    "count=data.loc[data['Attrition'] == 'Yes','BusinessTravel'].value_counts()\n",
    "count"
   ]
  },
  {
   "cell_type": "code",
   "execution_count": 52,
   "id": "df0e444c",
   "metadata": {},
   "outputs": [],
   "source": [
    "#Analysis: Employee who rarely do bussiness travel tends to leave, which may not be significant"
   ]
  },
  {
   "cell_type": "code",
   "execution_count": 53,
   "id": "436d54c4",
   "metadata": {},
   "outputs": [
    {
     "data": {
      "text/plain": [
       "DailyrateInterval\n",
       "100-300      34\n",
       "300-500      44\n",
       "500-700      41\n",
       "700-900      32\n",
       "900-1100     30\n",
       "1100-1300    23\n",
       "1300-1500    33\n",
       "dtype: int64"
      ]
     },
     "execution_count": 53,
     "metadata": {},
     "output_type": "execute_result"
    }
   ],
   "source": [
    "#Attrition against DailyRate interval\n",
    "# Define the DailyRate intervals\n",
    "bins = [100, 300, 500, 700, 900,1100,1300,1500]\n",
    "\n",
    "# Label the DailyRate intervals\n",
    "labels = ['100-300', '300-500', '500-700', '700-900', '900-1100', '1100-1300', '1300-1500']\n",
    "\n",
    "# Create a new column for DailyRate intervals\n",
    "data['DailyrateInterval'] = pd.cut(data['DailyRate'], bins=bins, labels=labels)\n",
    "\n",
    "# Calculate the count of employees with attrition 'Yes' for each DailyRate interval\n",
    "count = data.loc[data['Attrition'] == 'Yes'].groupby(['DailyrateInterval']).size()\n",
    "count"
   ]
  },
  {
   "cell_type": "code",
   "execution_count": 54,
   "id": "a266faf0",
   "metadata": {},
   "outputs": [],
   "source": [
    "#Cannot find any significant insight"
   ]
  },
  {
   "cell_type": "code",
   "execution_count": null,
   "id": "5930cc46",
   "metadata": {},
   "outputs": [],
   "source": []
  },
  {
   "cell_type": "code",
   "execution_count": 55,
   "id": "03348765",
   "metadata": {},
   "outputs": [
    {
     "data": {
      "text/plain": [
       "DistanceFromHomeInterval\n",
       "0-10     144\n",
       "10-20     48\n",
       "20-30     45\n",
       "dtype: int64"
      ]
     },
     "execution_count": 55,
     "metadata": {},
     "output_type": "execute_result"
    }
   ],
   "source": [
    "#Attrition against distance from home # Define the DailyRate intervals\n",
    "bins = [0, 10, 20,30]\n",
    "labels = ['0-10', '10-20', '20-30']\n",
    "data['DistanceFromHomeInterval'] = pd.cut(data['DistanceFromHome'], bins=bins, labels=labels)\n",
    "count = data.loc[data['Attrition'] == 'Yes'].groupby(['DistanceFromHomeInterval']).size()\n",
    "count\n",
    "\n"
   ]
  },
  {
   "cell_type": "code",
   "execution_count": 56,
   "id": "709dafbb",
   "metadata": {},
   "outputs": [],
   "source": [
    "# Employee with less distance tends to leave more"
   ]
  },
  {
   "cell_type": "code",
   "execution_count": 57,
   "id": "2f6ccf63",
   "metadata": {},
   "outputs": [
    {
     "data": {
      "text/plain": [
       "3    99\n",
       "4    58\n",
       "2    44\n",
       "1    31\n",
       "5     5\n",
       "Name: Education, dtype: int64"
      ]
     },
     "execution_count": 57,
     "metadata": {},
     "output_type": "execute_result"
    }
   ],
   "source": [
    "#Attrition against Education level\n",
    "count=data.loc[data['Attrition'] == 'Yes','Education'].value_counts()\n",
    "count\n",
    "#Education\n",
    "#1 'Below College'\n",
    "#2 'College'\n",
    "#3 'Bachelor'\n",
    "#4 'Master'\n",
    "#5 'Doctor'"
   ]
  },
  {
   "cell_type": "code",
   "execution_count": 58,
   "id": "0ec4651c",
   "metadata": {},
   "outputs": [],
   "source": [
    "# Analysis Bachelors tends to leave more \n",
    "#We need to do some provision to retain Bachelors degree employees"
   ]
  },
  {
   "cell_type": "code",
   "execution_count": 59,
   "id": "64d3ac8f",
   "metadata": {},
   "outputs": [
    {
     "data": {
      "text/plain": [
       "Life Sciences       89\n",
       "Medical             63\n",
       "Marketing           35\n",
       "Technical Degree    32\n",
       "Other               11\n",
       "Human Resources      7\n",
       "Name: EducationField, dtype: int64"
      ]
     },
     "execution_count": 59,
     "metadata": {},
     "output_type": "execute_result"
    }
   ],
   "source": [
    "#Attrition against EducationField level\n",
    "count=data.loc[data['Attrition'] == 'Yes','EducationField'].value_counts()\n",
    "count"
   ]
  },
  {
   "cell_type": "code",
   "execution_count": 60,
   "id": "660de5b3",
   "metadata": {},
   "outputs": [],
   "source": [
    "# Analysis  different fields tends to leave, which may not be significant"
   ]
  },
  {
   "cell_type": "code",
   "execution_count": 61,
   "id": "f914fe34",
   "metadata": {},
   "outputs": [
    {
     "data": {
      "text/plain": [
       "1    72\n",
       "3    62\n",
       "4    60\n",
       "2    43\n",
       "Name: EnvironmentSatisfaction, dtype: int64"
      ]
     },
     "execution_count": 61,
     "metadata": {},
     "output_type": "execute_result"
    }
   ],
   "source": [
    "#Attrition against environment satisfaction\n",
    "count=data.loc[data['Attrition'] == 'Yes','EnvironmentSatisfaction'].value_counts()\n",
    "#1 'Low'\n",
    "#2 'Medium'\n",
    "#3 'High'\n",
    "#4 'Very High'\n",
    "count"
   ]
  },
  {
   "cell_type": "code",
   "execution_count": 62,
   "id": "0b4d3633",
   "metadata": {},
   "outputs": [],
   "source": [
    "# Analysis No significant insight from ths data"
   ]
  },
  {
   "cell_type": "code",
   "execution_count": 63,
   "id": "c0cd651c",
   "metadata": {},
   "outputs": [
    {
     "data": {
      "text/plain": [
       "Male      150\n",
       "Female     87\n",
       "Name: Gender, dtype: int64"
      ]
     },
     "execution_count": 63,
     "metadata": {},
     "output_type": "execute_result"
    }
   ],
   "source": [
    "#Attrition against gender\n",
    "count=data.loc[data['Attrition'] == 'Yes','Gender'].value_counts()\n",
    "count\n"
   ]
  },
  {
   "cell_type": "code",
   "execution_count": 64,
   "id": "f41472c7",
   "metadata": {},
   "outputs": [],
   "source": [
    "# Analysis  Male tends to leave more"
   ]
  },
  {
   "cell_type": "code",
   "execution_count": 65,
   "id": "e049ea6b",
   "metadata": {},
   "outputs": [
    {
     "data": {
      "text/plain": [
       "HourlyRateInterval\n",
       "30-65     118\n",
       "65-100    119\n",
       "dtype: int64"
      ]
     },
     "execution_count": 65,
     "metadata": {},
     "output_type": "execute_result"
    }
   ],
   "source": [
    "#Attrition against rate for hour rate Interval\n",
    "bins = [30, 65, 100]\n",
    "labels = ['30-65', '65-100']\n",
    "data['HourlyRateInterval'] = pd.cut(data['HourlyRate'], bins=bins, labels=labels)\n",
    "count = data.loc[data['Attrition'] == 'Yes'].groupby(['HourlyRateInterval']).size()\n",
    "count"
   ]
  },
  {
   "cell_type": "code",
   "execution_count": 66,
   "id": "179e0906",
   "metadata": {},
   "outputs": [],
   "source": [
    "#Analysis:No significant insight from this data"
   ]
  },
  {
   "cell_type": "code",
   "execution_count": 67,
   "id": "6f7840d7",
   "metadata": {},
   "outputs": [
    {
     "data": {
      "text/plain": [
       "3    125\n",
       "2     71\n",
       "1     28\n",
       "4     13\n",
       "Name: JobInvolvement, dtype: int64"
      ]
     },
     "execution_count": 67,
     "metadata": {},
     "output_type": "execute_result"
    }
   ],
   "source": [
    "#Attrition against Job Involvement\n",
    "count=data.loc[data['Attrition'] == 'Yes','JobInvolvement'].value_counts()\n",
    "count\n",
    "#1 'Low'\n",
    "#2 'Medium'\n",
    "#3 'High'\n",
    "#4 'Very High'"
   ]
  },
  {
   "cell_type": "code",
   "execution_count": 68,
   "id": "d2e91799",
   "metadata": {},
   "outputs": [],
   "source": [
    "# Analysis:  employees with moderate leve of involvement tends to leave which may not be a sihnificant attribute"
   ]
  },
  {
   "cell_type": "code",
   "execution_count": 69,
   "id": "244fa8d9",
   "metadata": {},
   "outputs": [
    {
     "data": {
      "text/plain": [
       "1    143\n",
       "2     52\n",
       "3     32\n",
       "5      5\n",
       "4      5\n",
       "Name: JobLevel, dtype: int64"
      ]
     },
     "execution_count": 69,
     "metadata": {},
     "output_type": "execute_result"
    }
   ],
   "source": [
    "#Attrition against job level\n",
    "count=data.loc[data['Attrition'] == 'Yes','JobLevel'].value_counts()\n",
    "count"
   ]
  },
  {
   "cell_type": "code",
   "execution_count": 70,
   "id": "0b2ca2d9",
   "metadata": {},
   "outputs": [],
   "source": [
    "# Analysis: employees in low job levels have higher attrition\n"
   ]
  },
  {
   "cell_type": "code",
   "execution_count": 71,
   "id": "f8416ccc",
   "metadata": {},
   "outputs": [
    {
     "data": {
      "text/plain": [
       "Sales Executive              269\n",
       "Research Scientist           245\n",
       "Laboratory Technician        197\n",
       "Manufacturing Director       135\n",
       "Healthcare Representative    122\n",
       "Manager                       97\n",
       "Research Director             78\n",
       "Sales Representative          50\n",
       "Human Resources               40\n",
       "Name: JobRole, dtype: int64"
      ]
     },
     "execution_count": 71,
     "metadata": {},
     "output_type": "execute_result"
    }
   ],
   "source": [
    "#Attrition against job role\n",
    "count=data.loc[data['Attrition'] == 'No','JobRole'].value_counts()\n",
    "count"
   ]
  },
  {
   "cell_type": "code",
   "execution_count": 72,
   "id": "5525e4c5",
   "metadata": {},
   "outputs": [],
   "source": [
    "# Analysis : Not significant"
   ]
  },
  {
   "cell_type": "code",
   "execution_count": 73,
   "id": "b6394a65",
   "metadata": {},
   "outputs": [
    {
     "data": {
      "text/plain": [
       "Laboratory Technician        62\n",
       "Sales Executive              57\n",
       "Research Scientist           47\n",
       "Sales Representative         33\n",
       "Human Resources              12\n",
       "Manufacturing Director       10\n",
       "Healthcare Representative     9\n",
       "Manager                       5\n",
       "Research Director             2\n",
       "Name: JobRole, dtype: int64"
      ]
     },
     "execution_count": 73,
     "metadata": {},
     "output_type": "execute_result"
    }
   ],
   "source": [
    "#Attrition against job role\n",
    "count=data.loc[data['Attrition'] == 'Yes','JobRole'].value_counts()\n",
    "count"
   ]
  },
  {
   "cell_type": "markdown",
   "id": "f8bf1ad7",
   "metadata": {},
   "source": [
    "#### No significant insight from this data, may provide insight when combining with other attributes"
   ]
  },
  {
   "cell_type": "code",
   "execution_count": 74,
   "id": "378ae0d1",
   "metadata": {},
   "outputs": [
    {
     "data": {
      "text/plain": [
       "3    73\n",
       "1    66\n",
       "4    52\n",
       "2    46\n",
       "Name: JobSatisfaction, dtype: int64"
      ]
     },
     "execution_count": 74,
     "metadata": {},
     "output_type": "execute_result"
    }
   ],
   "source": [
    "#Attrition against JobSatisfaction\n",
    "count=data.loc[data['Attrition'] == 'Yes','JobSatisfaction'].value_counts()\n",
    "count\n",
    "#1 'Low'\n",
    "#2 'Medium'\n",
    "#3 'High'\n",
    "#4 'Very High'"
   ]
  },
  {
   "cell_type": "code",
   "execution_count": 75,
   "id": "80a17989",
   "metadata": {},
   "outputs": [],
   "source": [
    "# Analysis: No significant insight from ths data"
   ]
  },
  {
   "cell_type": "code",
   "execution_count": 76,
   "id": "87f0fb5d",
   "metadata": {},
   "outputs": [
    {
     "data": {
      "text/plain": [
       "Single      120\n",
       "Married      84\n",
       "Divorced     33\n",
       "Name: MaritalStatus, dtype: int64"
      ]
     },
     "execution_count": 76,
     "metadata": {},
     "output_type": "execute_result"
    }
   ],
   "source": [
    "count=data.loc[data['Attrition'] == 'Yes','MaritalStatus'].value_counts()\n",
    "count\n",
    "\n",
    "\n",
    "#counting total number for each maritalstatus"
   ]
  },
  {
   "cell_type": "code",
   "execution_count": 77,
   "id": "7c7bc8b2",
   "metadata": {},
   "outputs": [],
   "source": [
    "# Analysis : No significant insight from ths data"
   ]
  },
  {
   "cell_type": "code",
   "execution_count": 78,
   "id": "3c33b7b7",
   "metadata": {},
   "outputs": [
    {
     "data": {
      "text/plain": [
       "MonthlyIncomeRange\n",
       "0-5000         163\n",
       "5000-10000      49\n",
       "10000-15000     20\n",
       "15000-20000      5\n",
       "dtype: int64"
      ]
     },
     "execution_count": 78,
     "metadata": {},
     "output_type": "execute_result"
    }
   ],
   "source": [
    "#attriion against monthly income range\n",
    "bins = [0, 5000, 10000,15000,20000]\n",
    "labels = ['0-5000', '5000-10000','10000-15000', '15000-20000']\n",
    "data['MonthlyIncomeRange'] = pd.cut(data['MonthlyIncome'], bins=bins, labels=labels)\n",
    "count = data.loc[data['Attrition'] == 'Yes'].groupby(['MonthlyIncomeRange']).size()\n",
    "count"
   ]
  },
  {
   "cell_type": "code",
   "execution_count": 81,
   "id": "464c3cd7",
   "metadata": {},
   "outputs": [],
   "source": [
    "# Analysis: People with low wages are leaving more\n",
    "#depending on performance we can consider to rovide incentives and bonus to reduce attrition"
   ]
  },
  {
   "cell_type": "code",
   "execution_count": 82,
   "id": "2b05faa7",
   "metadata": {},
   "outputs": [
    {
     "data": {
      "text/plain": [
       "MonthlyRateRange\n",
       "2000-7000      46\n",
       "7000-12000     53\n",
       "12000-17000    42\n",
       "17000-22000    48\n",
       "22000-27000    48\n",
       "dtype: int64"
      ]
     },
     "execution_count": 82,
     "metadata": {},
     "output_type": "execute_result"
    }
   ],
   "source": [
    "#attrition against employee's monthly rate range of pay\n",
    "bins = [2000, 7000, 12000,17000,22000,27000]\n",
    "labels = ['2000-7000', '7000-12000','12000-17000', '17000-22000','22000-27000']\n",
    "data['MonthlyRateRange'] = pd.cut(data['MonthlyRate'], bins=bins, labels=labels)\n",
    "count = data.loc[data['Attrition'] == 'Yes'].groupby(['MonthlyRateRange']).size()\n",
    "count"
   ]
  },
  {
   "cell_type": "code",
   "execution_count": 83,
   "id": "de0e5f11",
   "metadata": {},
   "outputs": [],
   "source": [
    "# Analysis : No significant insight from ths data"
   ]
  },
  {
   "cell_type": "code",
   "execution_count": 84,
   "id": "33e220a0",
   "metadata": {},
   "outputs": [
    {
     "data": {
      "text/plain": [
       "1    98\n",
       "0    23\n",
       "7    17\n",
       "4    17\n",
       "6    16\n",
       "5    16\n",
       "2    16\n",
       "3    16\n",
       "9    12\n",
       "8     6\n",
       "Name: NumCompaniesWorked, dtype: int64"
      ]
     },
     "execution_count": 84,
     "metadata": {},
     "output_type": "execute_result"
    }
   ],
   "source": [
    "#attrition against number of companies they worked\n",
    "count=data.loc[data['Attrition'] == 'Yes','NumCompaniesWorked'].value_counts()\n",
    "count"
   ]
  },
  {
   "cell_type": "code",
   "execution_count": 85,
   "id": "6fd5f3a4",
   "metadata": {},
   "outputs": [],
   "source": [
    "#Analysis:  People who have worked only in 1 company before have high attrition"
   ]
  },
  {
   "cell_type": "code",
   "execution_count": 86,
   "id": "c02865f1",
   "metadata": {},
   "outputs": [
    {
     "data": {
      "text/plain": [
       "Yes    127\n",
       "No     110\n",
       "Name: OverTime, dtype: int64"
      ]
     },
     "execution_count": 86,
     "metadata": {},
     "output_type": "execute_result"
    }
   ],
   "source": [
    "#Attrition against overtime\n",
    "count=data.loc[data['Attrition'] == 'Yes','OverTime'].value_counts()\n",
    "count"
   ]
  },
  {
   "cell_type": "code",
   "execution_count": 87,
   "id": "8132a54b",
   "metadata": {},
   "outputs": [],
   "source": [
    "#Analysis:No significant insight from ths data"
   ]
  },
  {
   "cell_type": "code",
   "execution_count": 88,
   "id": "8d5bc277",
   "metadata": {},
   "outputs": [
    {
     "data": {
      "text/plain": [
       "PercentSalaryHikeRange\n",
       "0-5        0\n",
       "5-10       0\n",
       "10-15    150\n",
       "15-20     57\n",
       "20-25     30\n",
       "dtype: int64"
      ]
     },
     "execution_count": 88,
     "metadata": {},
     "output_type": "execute_result"
    }
   ],
   "source": [
    "#Attrition  against salary hike percentage\n",
    "count=data.loc[data['Attrition'] == 'Yes','PercentSalaryHike'].value_counts()\n",
    "bins = [0, 5, 10,15,20,25]\n",
    "labels = ['0-5', '5-10','10-15', '15-20','20-25']\n",
    "data['PercentSalaryHikeRange'] = pd.cut(data['PercentSalaryHike'], bins=bins, labels=labels)\n",
    "count = data.loc[data['Attrition'] == 'Yes'].groupby(['PercentSalaryHikeRange']).size()\n",
    "count\n"
   ]
  },
  {
   "cell_type": "code",
   "execution_count": 89,
   "id": "411599ed",
   "metadata": {},
   "outputs": [],
   "source": [
    "#Analysis:Not Significant"
   ]
  },
  {
   "cell_type": "markdown",
   "id": "0afdfca2",
   "metadata": {},
   "source": [
    "#### "
   ]
  },
  {
   "cell_type": "code",
   "execution_count": 90,
   "id": "b378f9cd",
   "metadata": {},
   "outputs": [
    {
     "data": {
      "text/plain": [
       "3    200\n",
       "4     37\n",
       "Name: PerformanceRating, dtype: int64"
      ]
     },
     "execution_count": 90,
     "metadata": {},
     "output_type": "execute_result"
    }
   ],
   "source": [
    "#Attrition  against rate of performance\n",
    "count=data.loc[data['Attrition'] == 'Yes','PerformanceRating'].value_counts()\n",
    "count\n"
   ]
  },
  {
   "cell_type": "code",
   "execution_count": 91,
   "id": "9f7b875b",
   "metadata": {},
   "outputs": [],
   "source": [
    "#Analysis:People with moderate performance rate tend to leave company, not significant"
   ]
  },
  {
   "cell_type": "code",
   "execution_count": 92,
   "id": "04a9bd07",
   "metadata": {},
   "outputs": [
    {
     "data": {
      "text/plain": [
       "3    71\n",
       "4    64\n",
       "1    57\n",
       "2    45\n",
       "Name: RelationshipSatisfaction, dtype: int64"
      ]
     },
     "execution_count": 92,
     "metadata": {},
     "output_type": "execute_result"
    }
   ],
   "source": [
    "#Attrition  against relationship satisfaction\n",
    "count=data.loc[data['Attrition'] == 'Yes','RelationshipSatisfaction'].value_counts()\n",
    "count\n",
    "#1 'Low'\n",
    "#2 'Medium'\n",
    "#3 'High'\n",
    "#4 'Very High'\n"
   ]
  },
  {
   "cell_type": "code",
   "execution_count": 93,
   "id": "82283330",
   "metadata": {},
   "outputs": [],
   "source": [
    "#Analysis: No significant insight from ths data"
   ]
  },
  {
   "cell_type": "code",
   "execution_count": 94,
   "id": "a04bc879",
   "metadata": {},
   "outputs": [
    {
     "data": {
      "text/plain": [
       "0    154\n",
       "1     56\n",
       "3     15\n",
       "2     12\n",
       "Name: StockOptionLevel, dtype: int64"
      ]
     },
     "execution_count": 94,
     "metadata": {},
     "output_type": "execute_result"
    }
   ],
   "source": [
    "#Attrition  against StockOptionLevel (right to purchase company stock at a specific price)\n",
    "count=data.loc[data['Attrition'] == 'Yes','StockOptionLevel'].value_counts()\n",
    "count"
   ]
  },
  {
   "cell_type": "code",
   "execution_count": 95,
   "id": "9db357ad",
   "metadata": {},
   "outputs": [],
   "source": [
    "#Analysis: Employee with less level of stock option tends to leave. "
   ]
  },
  {
   "cell_type": "code",
   "execution_count": 96,
   "id": "70a485c5",
   "metadata": {},
   "outputs": [
    {
     "data": {
      "text/plain": [
       "Research & Development    133\n",
       "Sales                      92\n",
       "Human Resources            12\n",
       "Name: Department, dtype: int64"
      ]
     },
     "execution_count": 96,
     "metadata": {},
     "output_type": "execute_result"
    }
   ],
   "source": [
    "#Attrition  against Department\n",
    "count=data.loc[data['Attrition'] == 'Yes','Department'].value_counts()\n",
    "count"
   ]
  },
  {
   "cell_type": "markdown",
   "id": "b2fb1cfc",
   "metadata": {},
   "source": [
    "## As part of first stage of Analysis we have eliminated many attributes that are not significantly effecting the attrition."
   ]
  },
  {
   "cell_type": "code",
   "execution_count": null,
   "id": "b878f29d",
   "metadata": {},
   "outputs": [],
   "source": []
  },
  {
   "cell_type": "code",
   "execution_count": null,
   "id": "4bbc1091",
   "metadata": {},
   "outputs": [],
   "source": []
  },
  {
   "cell_type": "markdown",
   "id": "70a5f939",
   "metadata": {},
   "source": [
    "## Second Level Analysis Comparing with 2 variables, Using itertool module we have done comparison of two variable in loop"
   ]
  },
  {
   "cell_type": "code",
   "execution_count": 97,
   "id": "7fe3b789",
   "metadata": {},
   "outputs": [
    {
     "name": "stdout",
     "output_type": "stream",
     "text": [
      "Count for AgeInterval1 and Department:\n",
      "AgeInterval1  Department            \n",
      "20-30         Research & Development    51\n",
      "30-40         Research & Development    47\n",
      "              Sales                     34\n",
      "20-30         Sales                     27\n",
      "              Human Resources            6\n",
      "30-40         Human Resources            4\n",
      "dtype: int64\n",
      "\n",
      "Count for AgeInterval1 and DistanceFromHomeInterval1:\n",
      "AgeInterval1  DistanceFromHomeInterval1\n",
      "20-30         0-10                         51\n",
      "30-40         0-10                         47\n",
      "dtype: int64\n",
      "\n",
      "Count for AgeInterval1 and Education:\n",
      "AgeInterval1  Education\n",
      "20-30         3            37\n",
      "30-40         3            34\n",
      "              4            29\n",
      "20-30         1            18\n",
      "              2            14\n",
      "              4            14\n",
      "30-40         2            13\n",
      "              1             6\n",
      "              5             3\n",
      "20-30         5             1\n",
      "dtype: int64\n",
      "\n",
      "Count for AgeInterval1 and JobLevel:\n",
      "AgeInterval1  JobLevel\n",
      "20-30         1           70\n",
      "30-40         1           40\n",
      "              2           30\n",
      "              3           13\n",
      "20-30         2           10\n",
      "              3            4\n",
      "30-40         4            2\n",
      "dtype: int64\n",
      "\n",
      "Count for AgeInterval1 and MonthlyIncomeRange1:\n",
      "AgeInterval1  MonthlyIncomeRange1\n",
      "20-30         0-5000                 73\n",
      "30-40         0-5000                 53\n",
      "              5001-10000             24\n",
      "20-30         5001-10000             11\n",
      "dtype: int64\n",
      "\n",
      "Count for AgeInterval1 and NumCompaniesWorked:\n",
      "AgeInterval1  NumCompaniesWorked\n",
      "20-30         1                     43\n",
      "30-40         1                     27\n",
      "              0                     11\n",
      "              7                     11\n",
      "20-30         5                      9\n",
      "              0                      9\n",
      "30-40         3                      8\n",
      "20-30         6                      7\n",
      "30-40         2                      7\n",
      "              4                      7\n",
      "              5                      5\n",
      "              6                      5\n",
      "20-30         3                      4\n",
      "              2                      4\n",
      "              9                      3\n",
      "              7                      2\n",
      "              4                      2\n",
      "30-40         8                      2\n",
      "              9                      2\n",
      "20-30         8                      1\n",
      "dtype: int64\n",
      "\n",
      "Count for AgeInterval1 and PerformanceRating1:\n",
      "AgeInterval1  PerformanceRating1\n",
      "30-40         3-4                   85\n",
      "20-30         3-4                   84\n",
      "dtype: int64\n",
      "\n",
      "Count for AgeInterval1 and StockOptionLevel:\n",
      "AgeInterval1  StockOptionLevel\n",
      "30-40         0                   59\n",
      "20-30         0                   52\n",
      "              1                   23\n",
      "30-40         1                   16\n",
      "20-30         3                    6\n",
      "30-40         2                    5\n",
      "              3                    5\n",
      "20-30         2                    3\n",
      "dtype: int64\n",
      "\n",
      "Count for AgeInterval1 and TotalWorkingYears1:\n",
      "AgeInterval1  TotalWorkingYears1\n",
      "20-30         0-10                  82\n",
      "30-40         0-10                  60\n",
      "dtype: int64\n",
      "\n",
      "Count for AgeInterval1 and YearsAtCompany1:\n",
      "AgeInterval1  YearsAtCompany1\n",
      "20-30         0-10               77\n",
      "30-40         0-10               73\n",
      "dtype: int64\n",
      "\n",
      "Count for AgeInterval1 and YearsSinceLastPromotion:\n",
      "AgeInterval1  YearsSinceLastPromotion\n",
      "20-30         0                          42\n",
      "30-40         0                          39\n",
      "20-30         1                          22\n",
      "30-40         1                          14\n",
      "20-30         2                          12\n",
      "30-40         2                          10\n",
      "              7                           6\n",
      "20-30         7                           4\n",
      "30-40         3                           4\n",
      "              6                           4\n",
      "20-30         3                           2\n",
      "30-40         4                           2\n",
      "              9                           2\n",
      "              11                          2\n",
      "20-30         6                           1\n",
      "              5                           1\n",
      "30-40         10                          1\n",
      "              15                          1\n",
      "dtype: int64\n",
      "\n",
      "Count for AgeInterval1 and YearsWithCurrManager1:\n",
      "AgeInterval1  YearsWithCurrManager1\n",
      "30-40         0-8                      56\n",
      "20-30         0-8                      47\n",
      "dtype: int64\n",
      "\n",
      "Count for Department and DistanceFromHomeInterval1:\n",
      "Department              DistanceFromHomeInterval1\n",
      "Research & Development  0-10                         85\n",
      "Sales                   0-10                         54\n",
      "Human Resources         0-10                          5\n",
      "dtype: int64\n",
      "\n",
      "Count for Department and Education:\n",
      "Department              Education\n",
      "Research & Development  3            56\n",
      "Sales                   3            39\n",
      "Research & Development  4            32\n",
      "                        2            23\n",
      "Sales                   4            23\n",
      "Research & Development  1            19\n",
      "Sales                   2            18\n",
      "                        1            11\n",
      "Human Resources         3             4\n",
      "                        2             3\n",
      "                        4             3\n",
      "Research & Development  5             3\n",
      "Human Resources         1             1\n",
      "                        5             1\n",
      "Sales                   5             1\n",
      "dtype: int64\n",
      "\n",
      "Count for Department and JobLevel:\n",
      "Department              JobLevel\n",
      "Research & Development  1           101\n",
      "Sales                   2            37\n",
      "                        1            32\n",
      "                        3            17\n",
      "Research & Development  2            15\n",
      "                        3            13\n",
      "Human Resources         1            10\n",
      "Sales                   4             4\n",
      "Research & Development  5             3\n",
      "Human Resources         3             2\n",
      "Sales                   5             2\n",
      "Research & Development  4             1\n",
      "dtype: int64\n",
      "\n",
      "Count for Department and MonthlyIncomeRange1:\n",
      "Department              MonthlyIncomeRange1\n",
      "Research & Development  0-5000                 110\n",
      "Sales                   0-5000                  43\n",
      "                        5001-10000              36\n",
      "Research & Development  5001-10000              12\n",
      "Human Resources         0-5000                  10\n",
      "                        5001-10000               1\n",
      "dtype: int64\n",
      "\n",
      "Count for Department and NumCompaniesWorked:\n",
      "Department              NumCompaniesWorked\n",
      "Research & Development  1                     58\n",
      "Sales                   1                     36\n",
      "Research & Development  7                     12\n",
      "                        0                     12\n",
      "                        5                     10\n",
      "                        6                      9\n",
      "Sales                   2                      8\n",
      "                        0                      8\n",
      "Research & Development  4                      8\n",
      "                        3                      8\n",
      "                        2                      8\n",
      "Sales                   3                      8\n",
      "                        4                      7\n",
      "Research & Development  9                      7\n",
      "Sales                   5                      6\n",
      "                        6                      6\n",
      "                        7                      5\n",
      "                        8                      5\n",
      "Human Resources         1                      4\n",
      "                        0                      3\n",
      "Sales                   9                      3\n",
      "Human Resources         9                      2\n",
      "                        4                      2\n",
      "Research & Development  8                      1\n",
      "Human Resources         6                      1\n",
      "dtype: int64\n",
      "\n",
      "Count for Department and PerformanceRating1:\n",
      "Department              PerformanceRating1\n",
      "Research & Development  3-4                   133\n",
      "Sales                   3-4                    92\n",
      "Human Resources         3-4                    12\n",
      "dtype: int64\n",
      "\n",
      "Count for Department and StockOptionLevel:\n",
      "Department              StockOptionLevel\n",
      "Research & Development  0                   84\n",
      "Sales                   0                   64\n",
      "Research & Development  1                   36\n",
      "Sales                   1                   16\n",
      "Research & Development  3                    7\n",
      "Human Resources         0                    6\n",
      "Research & Development  2                    6\n",
      "Sales                   2                    6\n",
      "                        3                    6\n",
      "Human Resources         1                    4\n",
      "                        3                    2\n",
      "dtype: int64\n",
      "\n",
      "Count for Department and TotalWorkingYears1:\n",
      "Department              TotalWorkingYears1\n",
      "Research & Development  0-10                  104\n",
      "Sales                   0-10                   63\n",
      "Human Resources         0-10                   10\n",
      "dtype: int64\n",
      "\n",
      "Count for Department and YearsAtCompany1:\n",
      "Department              YearsAtCompany1\n",
      "Research & Development  0-10               117\n",
      "Sales                   0-10                73\n",
      "Human Resources         0-10                11\n",
      "dtype: int64\n",
      "\n",
      "Count for Department and YearsSinceLastPromotion:\n",
      "Department              YearsSinceLastPromotion\n",
      "Research & Development  0                          65\n",
      "Sales                   0                          39\n",
      "Research & Development  1                          29\n",
      "Sales                   1                          17\n",
      "Research & Development  2                          13\n",
      "Sales                   2                          12\n",
      "Research & Development  7                           8\n",
      "Sales                   7                           8\n",
      "Human Resources         0                           6\n",
      "Research & Development  3                           4\n",
      "Sales                   3                           4\n",
      "                        6                           4\n",
      "Research & Development  9                           3\n",
      "Human Resources         1                           3\n",
      "Research & Development  15                          3\n",
      "Sales                   4                           3\n",
      "Research & Development  4                           2\n",
      "                        5                           2\n",
      "                        6                           2\n",
      "Human Resources         2                           2\n",
      "Sales                   10                          1\n",
      "                        11                          1\n",
      "                        13                          1\n",
      "Research & Development  13                          1\n",
      "Sales                   9                           1\n",
      "Research & Development  11                          1\n",
      "Human Resources         3                           1\n",
      "Sales                   14                          1\n",
      "dtype: int64\n",
      "\n",
      "Count for Department and YearsWithCurrManager1:\n",
      "Department              YearsWithCurrManager1\n",
      "Research & Development  0-8                      80\n",
      "Sales                   0-8                      54\n",
      "Human Resources         0-8                       6\n",
      "dtype: int64\n",
      "\n",
      "Count for DistanceFromHomeInterval1 and Education:\n",
      "DistanceFromHomeInterval1  Education\n",
      "0-10                       3            63\n",
      "                           4            32\n",
      "                           2            27\n",
      "                           1            20\n",
      "                           5             2\n",
      "dtype: int64\n",
      "\n",
      "Count for DistanceFromHomeInterval1 and JobLevel:\n",
      "DistanceFromHomeInterval1  JobLevel\n",
      "0-10                       1           97\n",
      "                           2           25\n",
      "                           3           16\n",
      "                           5            4\n",
      "                           4            2\n",
      "dtype: int64\n",
      "\n",
      "Count for DistanceFromHomeInterval1 and MonthlyIncomeRange1:\n",
      "DistanceFromHomeInterval1  MonthlyIncomeRange1\n",
      "0-10                       0-5000                 105\n",
      "                           5001-10000              23\n",
      "dtype: int64\n",
      "\n",
      "Count for DistanceFromHomeInterval1 and NumCompaniesWorked:\n",
      "DistanceFromHomeInterval1  NumCompaniesWorked\n",
      "0-10                       1                     57\n",
      "                           0                     14\n",
      "                           7                     14\n",
      "                           6                     12\n",
      "                           4                     10\n",
      "                           2                      9\n",
      "                           3                      9\n",
      "                           9                      9\n",
      "                           5                      7\n",
      "                           8                      3\n",
      "dtype: int64\n",
      "\n",
      "Count for DistanceFromHomeInterval1 and PerformanceRating1:\n",
      "DistanceFromHomeInterval1  PerformanceRating1\n",
      "0-10                       3-4                   144\n",
      "dtype: int64\n",
      "\n",
      "Count for DistanceFromHomeInterval1 and StockOptionLevel:\n",
      "DistanceFromHomeInterval1  StockOptionLevel\n",
      "0-10                       0                   97\n",
      "                           1                   33\n",
      "                           2                    7\n",
      "                           3                    7\n",
      "dtype: int64\n",
      "\n",
      "Count for DistanceFromHomeInterval1 and TotalWorkingYears1:\n",
      "DistanceFromHomeInterval1  TotalWorkingYears1\n",
      "0-10                       0-10                  107\n",
      "dtype: int64\n",
      "\n",
      "Count for DistanceFromHomeInterval1 and YearsAtCompany1:\n",
      "DistanceFromHomeInterval1  YearsAtCompany1\n",
      "0-10                       0-10               119\n",
      "dtype: int64\n",
      "\n",
      "Count for DistanceFromHomeInterval1 and YearsSinceLastPromotion:\n",
      "DistanceFromHomeInterval1  YearsSinceLastPromotion\n",
      "0-10                       0                          65\n",
      "                           1                          34\n",
      "                           2                          16\n",
      "                           7                          10\n",
      "                           4                           4\n",
      "                           3                           3\n",
      "                           6                           3\n",
      "                           9                           3\n",
      "                           5                           2\n",
      "                           11                          2\n",
      "                           13                          1\n",
      "                           14                          1\n",
      "dtype: int64\n",
      "\n",
      "Count for DistanceFromHomeInterval1 and YearsWithCurrManager1:\n",
      "DistanceFromHomeInterval1  YearsWithCurrManager1\n",
      "0-10                       0-8                      90\n",
      "dtype: int64\n",
      "\n",
      "Count for Education and JobLevel:\n",
      "Education  JobLevel\n",
      "3          1           65\n",
      "4          1           28\n",
      "2          1           25\n",
      "1          1           23\n",
      "4          2           19\n",
      "2          2           15\n",
      "3          2           14\n",
      "           3           13\n",
      "4          3            9\n",
      "3          4            4\n",
      "2          3            4\n",
      "1          3            4\n",
      "           2            3\n",
      "3          5            3\n",
      "5          1            2\n",
      "           3            2\n",
      "1          5            1\n",
      "4          4            1\n",
      "           5            1\n",
      "5          2            1\n",
      "dtype: int64\n",
      "\n",
      "Count for Education and MonthlyIncomeRange1:\n",
      "Education  MonthlyIncomeRange1\n",
      "3          0-5000                 69\n",
      "4          0-5000                 38\n",
      "2          0-5000                 30\n",
      "1          0-5000                 24\n",
      "3          5001-10000             19\n",
      "2          5001-10000             13\n",
      "4          5001-10000             11\n",
      "1          5001-10000              4\n",
      "5          0-5000                  2\n",
      "           5001-10000              2\n",
      "dtype: int64\n",
      "\n",
      "Count for Education and NumCompaniesWorked:\n",
      "Education  NumCompaniesWorked\n",
      "3          1                     41\n",
      "4          1                     22\n",
      "1          1                     19\n",
      "2          1                     15\n",
      "3          5                      9\n",
      "           4                      9\n",
      "4          2                      8\n",
      "3          6                      8\n",
      "           3                      7\n",
      "           0                      7\n",
      "           7                      6\n",
      "2          3                      6\n",
      "4          7                      5\n",
      "           0                      5\n",
      "3          9                      5\n",
      "           2                      5\n",
      "1          0                      5\n",
      "2          6                      4\n",
      "           0                      4\n",
      "4          6                      4\n",
      "           4                      4\n",
      "2          9                      3\n",
      "4          3                      3\n",
      "2          7                      3\n",
      "           4                      3\n",
      "4          9                      3\n",
      "           5                      3\n",
      "1          7                      3\n",
      "2          8                      3\n",
      "5          0                      2\n",
      "           5                      2\n",
      "3          8                      2\n",
      "2          2                      2\n",
      "1          4                      1\n",
      "           9                      1\n",
      "           2                      1\n",
      "4          8                      1\n",
      "2          5                      1\n",
      "5          1                      1\n",
      "1          5                      1\n",
      "dtype: int64\n",
      "\n",
      "Count for Education and PerformanceRating1:\n",
      "Education  PerformanceRating1\n",
      "3          3-4                   99\n",
      "4          3-4                   58\n",
      "2          3-4                   44\n",
      "1          3-4                   31\n",
      "5          3-4                    5\n",
      "dtype: int64\n",
      "\n",
      "Count for Education and StockOptionLevel:\n",
      "Education  StockOptionLevel\n",
      "3          0                   61\n",
      "4          0                   39\n",
      "2          0                   29\n",
      "3          1                   25\n",
      "1          0                   22\n",
      "4          1                   12\n",
      "2          1                   10\n",
      "1          1                    8\n",
      "3          3                    7\n",
      "           2                    6\n",
      "4          3                    4\n",
      "2          2                    3\n",
      "4          2                    3\n",
      "5          0                    3\n",
      "2          3                    2\n",
      "1          3                    1\n",
      "5          1                    1\n",
      "           3                    1\n",
      "dtype: int64\n",
      "\n"
     ]
    },
    {
     "name": "stdout",
     "output_type": "stream",
     "text": [
      "Count for Education and TotalWorkingYears1:\n",
      "Education  TotalWorkingYears1\n",
      "3          0-10                  79\n",
      "4          0-10                  39\n",
      "2          0-10                  33\n",
      "1          0-10                  23\n",
      "5          0-10                   3\n",
      "dtype: int64\n",
      "\n",
      "Count for Education and YearsAtCompany1:\n",
      "Education  YearsAtCompany1\n",
      "3          0-10               87\n",
      "4          0-10               46\n",
      "2          0-10               39\n",
      "1          0-10               25\n",
      "5          0-10                4\n",
      "dtype: int64\n",
      "\n",
      "Count for Education and YearsSinceLastPromotion:\n",
      "Education  YearsSinceLastPromotion\n",
      "3          0                          55\n",
      "4          0                          23\n",
      "3          1                          18\n",
      "2          0                          17\n",
      "           1                          14\n",
      "1          0                          14\n",
      "3          2                          11\n",
      "1          1                           9\n",
      "4          2                           8\n",
      "2          2                           7\n",
      "4          7                           6\n",
      "           1                           6\n",
      "3          7                           6\n",
      "4          3                           4\n",
      "1          7                           3\n",
      "2          3                           3\n",
      "4          6                           2\n",
      "3          4                           2\n",
      "1          6                           2\n",
      "4          15                          2\n",
      "           9                           2\n",
      "1          3                           2\n",
      "5          1                           2\n",
      "3          6                           2\n",
      "5          2                           1\n",
      "4          13                          1\n",
      "           11                          1\n",
      "           10                          1\n",
      "5          0                           1\n",
      "3          11                          1\n",
      "4          5                           1\n",
      "           4                           1\n",
      "3          15                          1\n",
      "           14                          1\n",
      "           13                          1\n",
      "           9                           1\n",
      "2          9                           1\n",
      "           7                           1\n",
      "           4                           1\n",
      "1          5                           1\n",
      "5          4                           1\n",
      "dtype: int64\n",
      "\n",
      "Count for Education and YearsWithCurrManager1:\n",
      "Education  YearsWithCurrManager1\n",
      "3          0-8                      53\n",
      "4          0-8                      41\n",
      "2          0-8                      26\n",
      "1          0-8                      17\n",
      "5          0-8                       3\n",
      "dtype: int64\n",
      "\n",
      "Count for JobLevel and MonthlyIncomeRange1:\n",
      "JobLevel  MonthlyIncomeRange1\n",
      "1         0-5000                 143\n",
      "2         5001-10000              32\n",
      "          0-5000                  20\n",
      "3         5001-10000              17\n",
      "dtype: int64\n",
      "\n",
      "Count for JobLevel and NumCompaniesWorked:\n",
      "JobLevel  NumCompaniesWorked\n",
      "1         1                     74\n",
      "          0                     15\n",
      "3         1                     11\n",
      "2         1                     11\n",
      "1         6                     10\n",
      "          5                      8\n",
      "          7                      8\n",
      "2         3                      8\n",
      "1         2                      7\n",
      "          3                      7\n",
      "          4                      7\n",
      "2         4                      7\n",
      "1         9                      6\n",
      "2         5                      5\n",
      "3         9                      5\n",
      "2         8                      5\n",
      "          7                      4\n",
      "          2                      4\n",
      "          0                      4\n",
      "3         2                      4\n",
      "2         6                      3\n",
      "3         0                      3\n",
      "5         1                      2\n",
      "4         7                      2\n",
      "3         7                      2\n",
      "          6                      2\n",
      "          5                      2\n",
      "          4                      2\n",
      "1         8                      1\n",
      "4         0                      1\n",
      "          4                      1\n",
      "          6                      1\n",
      "3         3                      1\n",
      "2         9                      1\n",
      "5         2                      1\n",
      "          5                      1\n",
      "          7                      1\n",
      "dtype: int64\n",
      "\n",
      "Count for JobLevel and PerformanceRating1:\n",
      "JobLevel  PerformanceRating1\n",
      "1         3-4                   143\n",
      "2         3-4                    52\n",
      "3         3-4                    32\n",
      "4         3-4                     5\n",
      "5         3-4                     5\n",
      "dtype: int64\n",
      "\n",
      "Count for JobLevel and StockOptionLevel:\n",
      "JobLevel  StockOptionLevel\n",
      "1         0                   95\n",
      "          1                   35\n",
      "2         0                   35\n",
      "3         0                   17\n",
      "2         1                   10\n",
      "1         3                    9\n",
      "3         1                    9\n",
      "2         2                    6\n",
      "1         2                    4\n",
      "3         3                    4\n",
      "4         0                    4\n",
      "5         0                    3\n",
      "3         2                    2\n",
      "5         1                    2\n",
      "2         3                    1\n",
      "4         3                    1\n",
      "dtype: int64\n",
      "\n",
      "Count for JobLevel and TotalWorkingYears1:\n",
      "JobLevel  TotalWorkingYears1\n",
      "1         0-10                  129\n",
      "2         0-10                   36\n",
      "3         0-10                   12\n",
      "dtype: int64\n",
      "\n",
      "Count for JobLevel and YearsAtCompany1:\n",
      "JobLevel  YearsAtCompany1\n",
      "1         0-10               129\n",
      "2         0-10                47\n",
      "3         0-10                23\n",
      "4         0-10                 1\n",
      "5         0-10                 1\n",
      "dtype: int64\n",
      "\n",
      "Count for JobLevel and YearsSinceLastPromotion:\n",
      "JobLevel  YearsSinceLastPromotion\n",
      "1         0                          78\n",
      "          1                          33\n",
      "2         0                          22\n",
      "1         2                          18\n",
      "2         1                          10\n",
      "3         0                           9\n",
      "2         2                           7\n",
      "1         7                           6\n",
      "2         7                           6\n",
      "3         7                           4\n",
      "          4                           4\n",
      "          1                           4\n",
      "2         6                           3\n",
      "3         3                           3\n",
      "2         3                           3\n",
      "1         3                           2\n",
      "          9                           2\n",
      "5         1                           2\n",
      "3         2                           2\n",
      "          9                           2\n",
      "4         0                           1\n",
      "5         13                          1\n",
      "          6                           1\n",
      "4         14                          1\n",
      "          13                          1\n",
      "          11                          1\n",
      "          3                           1\n",
      "1         15                          1\n",
      "3         15                          1\n",
      "          11                          1\n",
      "          6                           1\n",
      "          5                           1\n",
      "1         4                           1\n",
      "          5                           1\n",
      "          6                           1\n",
      "2         10                          1\n",
      "5         15                          1\n",
      "dtype: int64\n",
      "\n",
      "Count for JobLevel and YearsWithCurrManager1:\n",
      "JobLevel  YearsWithCurrManager1\n",
      "1         0-8                      77\n",
      "2         0-8                      40\n",
      "3         0-8                      18\n",
      "5         0-8                       3\n",
      "4         0-8                       2\n",
      "dtype: int64\n",
      "\n",
      "Count for MonthlyIncomeRange1 and NumCompaniesWorked:\n",
      "MonthlyIncomeRange1  NumCompaniesWorked\n",
      "0-5000               1                     77\n",
      "                     0                     18\n",
      "5001-10000           1                     15\n",
      "0-5000               3                     12\n",
      "                     2                     10\n",
      "                     6                     10\n",
      "                     5                      9\n",
      "                     7                      9\n",
      "                     4                      8\n",
      "                     9                      7\n",
      "5001-10000           4                      6\n",
      "                     5                      5\n",
      "                     2                      4\n",
      "                     3                      4\n",
      "                     7                      3\n",
      "                     8                      3\n",
      "                     0                      3\n",
      "                     6                      3\n",
      "0-5000               8                      3\n",
      "5001-10000           9                      3\n",
      "dtype: int64\n",
      "\n",
      "Count for MonthlyIncomeRange1 and PerformanceRating1:\n",
      "MonthlyIncomeRange1  PerformanceRating1\n",
      "0-5000               3-4                   163\n",
      "5001-10000           3-4                    49\n",
      "dtype: int64\n",
      "\n",
      "Count for MonthlyIncomeRange1 and StockOptionLevel:\n",
      "MonthlyIncomeRange1  StockOptionLevel\n",
      "0-5000               0                   107\n",
      "                     1                    41\n",
      "5001-10000           0                    33\n",
      "0-5000               3                     9\n",
      "                     2                     6\n",
      "5001-10000           1                     6\n",
      "                     2                     5\n",
      "                     3                     5\n",
      "dtype: int64\n",
      "\n",
      "Count for MonthlyIncomeRange1 and TotalWorkingYears1:\n",
      "MonthlyIncomeRange1  TotalWorkingYears1\n",
      "0-5000               0-10                  142\n",
      "5001-10000           0-10                   34\n",
      "dtype: int64\n",
      "\n",
      "Count for MonthlyIncomeRange1 and YearsAtCompany1:\n",
      "MonthlyIncomeRange1  YearsAtCompany1\n",
      "0-5000               0-10               145\n",
      "5001-10000           0-10                46\n",
      "dtype: int64\n",
      "\n",
      "Count for MonthlyIncomeRange1 and YearsSinceLastPromotion:\n",
      "MonthlyIncomeRange1  YearsSinceLastPromotion\n",
      "0-5000               0                          85\n",
      "                     1                          38\n",
      "5001-10000           0                          22\n",
      "0-5000               2                          21\n",
      "5001-10000           1                           8\n",
      "                     7                           8\n",
      "0-5000               7                           7\n",
      "                     3                           4\n",
      "5001-10000           2                           4\n",
      "                     4                           3\n",
      "0-5000               6                           2\n",
      "                     9                           2\n",
      "5001-10000           3                           2\n",
      "                     6                           2\n",
      "0-5000               5                           1\n",
      "                     15                          1\n",
      "                     4                           1\n",
      "                     10                          1\n",
      "dtype: int64\n",
      "\n",
      "Count for MonthlyIncomeRange1 and YearsWithCurrManager1:\n",
      "MonthlyIncomeRange1  YearsWithCurrManager1\n",
      "0-5000               0-8                      90\n",
      "5001-10000           0-8                      36\n",
      "dtype: int64\n",
      "\n",
      "Count for NumCompaniesWorked and PerformanceRating1:\n",
      "NumCompaniesWorked  PerformanceRating1\n",
      "1                   3-4                   98\n",
      "0                   3-4                   23\n",
      "4                   3-4                   17\n",
      "7                   3-4                   17\n",
      "2                   3-4                   16\n",
      "3                   3-4                   16\n",
      "5                   3-4                   16\n",
      "6                   3-4                   16\n",
      "9                   3-4                   12\n",
      "8                   3-4                    6\n",
      "dtype: int64\n",
      "\n",
      "Count for NumCompaniesWorked and StockOptionLevel:\n",
      "NumCompaniesWorked  StockOptionLevel\n",
      "1                   0                   67\n",
      "                    1                   23\n",
      "0                   0                   15\n",
      "7                   0                   13\n",
      "2                   0                   10\n",
      "3                   0                   10\n",
      "4                   0                   10\n",
      "5                   0                   10\n",
      "6                   0                    9\n",
      "0                   1                    8\n",
      "9                   0                    5\n",
      "8                   0                    5\n",
      "3                   1                    5\n",
      "4                   1                    5\n",
      "6                   1                    4\n",
      "5                   1                    4\n",
      "9                   3                    4\n",
      "1                   3                    4\n",
      "                    2                    4\n",
      "2                   2                    3\n",
      "9                   1                    3\n",
      "5                   3                    2\n",
      "6                   2                    2\n",
      "2                   1                    2\n",
      "7                   3                    2\n",
      "4                   2                    1\n",
      "3                   2                    1\n",
      "2                   3                    1\n",
      "6                   3                    1\n",
      "7                   1                    1\n",
      "                    2                    1\n",
      "8                   1                    1\n",
      "4                   3                    1\n",
      "dtype: int64\n",
      "\n",
      "Count for NumCompaniesWorked and TotalWorkingYears1:\n",
      "NumCompaniesWorked  TotalWorkingYears1\n",
      "1                   0-10                  85\n",
      "0                   0-10                  20\n",
      "6                   0-10                  12\n",
      "5                   0-10                  11\n",
      "2                   0-10                  10\n",
      "3                   0-10                   9\n",
      "4                   0-10                   9\n",
      "7                   0-10                   9\n",
      "9                   0-10                   7\n",
      "8                   0-10                   5\n",
      "dtype: int64\n",
      "\n",
      "Count for NumCompaniesWorked and YearsAtCompany1:\n",
      "NumCompaniesWorked  YearsAtCompany1\n",
      "1                   0-10               84\n",
      "0                   0-10               18\n",
      "4                   0-10               17\n",
      "5                   0-10               15\n",
      "3                   0-10               14\n",
      "7                   0-10               13\n",
      "2                   0-10               12\n",
      "6                   0-10               12\n",
      "9                   0-10               10\n",
      "8                   0-10                6\n",
      "dtype: int64\n",
      "\n",
      "Count for NumCompaniesWorked and YearsSinceLastPromotion:\n",
      "NumCompaniesWorked  YearsSinceLastPromotion\n",
      "1                   0                          49\n",
      "                    1                          17\n",
      "5                   0                          10\n",
      "0                   0                           9\n",
      "                    1                           9\n",
      "2                   0                           8\n",
      "1                   7                           8\n",
      "7                   0                           7\n",
      "6                   0                           7\n",
      "1                   2                           7\n",
      "3                   0                           7\n",
      "4                   0                           6\n",
      "6                   2                           5\n",
      "9                   0                           5\n",
      "2                   1                           5\n",
      "4                   1                           4\n",
      "3                   1                           4\n",
      "1                   6                           4\n",
      "                    3                           4\n",
      "                    15                          3\n",
      "4                   2                           3\n",
      "5                   1                           3\n",
      "9                   2                           3\n",
      "3                   2                           3\n",
      "1                   9                           3\n",
      "6                   1                           3\n",
      "5                   2                           2\n",
      "4                   7                           2\n",
      "1                   4                           2\n",
      "8                   0                           2\n",
      "                    1                           2\n",
      "7                   1                           2\n",
      "2                   7                           2\n",
      "7                   2                           2\n",
      "9                   6                           1\n",
      "7                   11                          1\n",
      "9                   4                           1\n",
      "7                   14                          1\n",
      "9                   3                           1\n",
      "7                   13                          1\n",
      "8                   9                           1\n",
      "7                   5                           1\n",
      "8                   2                           1\n",
      "7                   7                           1\n",
      "4                   3                           1\n",
      "7                   3                           1\n",
      "6                   3                           1\n",
      "5                   11                          1\n",
      "4                   4                           1\n",
      "3                   7                           1\n",
      "                    6                           1\n",
      "2                   2                           1\n",
      "1                   5                           1\n",
      "0                   13                          1\n",
      "                    10                          1\n",
      "                    7                           1\n",
      "                    4                           1\n",
      "                    3                           1\n",
      "9                   7                           1\n",
      "dtype: int64\n",
      "\n",
      "Count for NumCompaniesWorked and YearsWithCurrManager1:\n",
      "NumCompaniesWorked  YearsWithCurrManager1\n",
      "1                   0-8                      50\n",
      "0                   0-8                      14\n",
      "5                   0-8                      14\n",
      "3                   0-8                      11\n",
      "4                   0-8                      11\n",
      "6                   0-8                      11\n",
      "7                   0-8                      11\n",
      "2                   0-8                       6\n",
      "8                   0-8                       6\n",
      "9                   0-8                       6\n",
      "dtype: int64\n",
      "\n",
      "Count for PerformanceRating1 and StockOptionLevel:\n",
      "PerformanceRating1  StockOptionLevel\n",
      "3-4                 0                   154\n",
      "                    1                    56\n",
      "                    3                    15\n",
      "                    2                    12\n",
      "dtype: int64\n",
      "\n",
      "Count for PerformanceRating1 and TotalWorkingYears1:\n",
      "PerformanceRating1  TotalWorkingYears1\n",
      "3-4                 0-10                  177\n",
      "dtype: int64\n",
      "\n",
      "Count for PerformanceRating1 and YearsAtCompany1:\n",
      "PerformanceRating1  YearsAtCompany1\n",
      "3-4                 0-10               201\n",
      "dtype: int64\n",
      "\n",
      "Count for PerformanceRating1 and YearsSinceLastPromotion:\n",
      "PerformanceRating1  YearsSinceLastPromotion\n",
      "3-4                 0                          110\n",
      "                    1                           49\n",
      "                    2                           27\n",
      "                    7                           16\n",
      "                    3                            9\n",
      "                    6                            6\n",
      "                    4                            5\n",
      "                    9                            4\n",
      "                    15                           3\n",
      "                    5                            2\n",
      "                    11                           2\n",
      "                    13                           2\n",
      "                    10                           1\n",
      "                    14                           1\n",
      "dtype: int64\n",
      "\n",
      "Count for PerformanceRating1 and YearsWithCurrManager1:\n",
      "PerformanceRating1  YearsWithCurrManager1\n",
      "3-4                 0-8                      140\n",
      "dtype: int64\n",
      "\n",
      "Count for StockOptionLevel and TotalWorkingYears1:\n",
      "StockOptionLevel  TotalWorkingYears1\n",
      "0                 0-10                  117\n",
      "1                 0-10                   41\n",
      "3                 0-10                   10\n",
      "2                 0-10                    9\n",
      "dtype: int64\n",
      "\n",
      "Count for StockOptionLevel and YearsAtCompany1:\n",
      "StockOptionLevel  YearsAtCompany1\n",
      "0                 0-10               127\n",
      "1                 0-10                49\n",
      "3                 0-10                14\n",
      "2                 0-10                11\n",
      "dtype: int64\n",
      "\n",
      "Count for StockOptionLevel and YearsSinceLastPromotion:\n",
      "StockOptionLevel  YearsSinceLastPromotion\n",
      "0                 0                          75\n",
      "                  1                          32\n",
      "1                 0                          24\n",
      "0                 2                          16\n",
      "1                 1                          13\n",
      "0                 7                          12\n",
      "3                 0                           6\n",
      "1                 3                           6\n",
      "                  2                           5\n",
      "3                 2                           5\n",
      "2                 0                           5\n",
      "0                 6                           3\n",
      "                  4                           3\n",
      "                  3                           3\n",
      "2                 7                           3\n",
      "0                 13                          2\n",
      "                  15                          2\n",
      "3                 1                           2\n",
      "2                 1                           2\n",
      "1                 6                           2\n",
      "                  9                           2\n",
      "0                 9                           2\n",
      "3                 4                           1\n",
      "2                 6                           1\n",
      "                  2                           1\n",
      "1                 7                           1\n",
      "                  15                          1\n",
      "0                 10                          1\n",
      "1                 5                           1\n",
      "                  4                           1\n",
      "0                 5                           1\n",
      "                  14                          1\n",
      "                  11                          1\n",
      "3                 11                          1\n",
      "dtype: int64\n",
      "\n",
      "Count for StockOptionLevel and YearsWithCurrManager1:\n",
      "StockOptionLevel  YearsWithCurrManager1\n",
      "0                 0-8                      92\n",
      "1                 0-8                      31\n",
      "3                 0-8                      10\n",
      "2                 0-8                       7\n",
      "dtype: int64\n",
      "\n",
      "Count for TotalWorkingYears1 and YearsAtCompany1:\n",
      "TotalWorkingYears1  YearsAtCompany1\n",
      "0-10                0-10               167\n",
      "dtype: int64\n",
      "\n",
      "Count for TotalWorkingYears1 and YearsSinceLastPromotion:\n",
      "TotalWorkingYears1  YearsSinceLastPromotion\n",
      "0-10                0                          88\n",
      "                    1                          42\n",
      "                    2                          23\n",
      "                    7                          11\n",
      "                    4                           4\n",
      "                    3                           3\n",
      "                    6                           3\n",
      "                    9                           2\n",
      "                    5                           1\n",
      "dtype: int64\n",
      "\n",
      "Count for TotalWorkingYears1 and YearsWithCurrManager1:\n",
      "TotalWorkingYears1  YearsWithCurrManager1\n",
      "0-10                0-8                      108\n",
      "dtype: int64\n",
      "\n",
      "Count for YearsAtCompany1 and YearsSinceLastPromotion:\n",
      "YearsAtCompany1  YearsSinceLastPromotion\n",
      "0-10             0                          94\n",
      "                 1                          47\n",
      "                 2                          27\n",
      "                 7                          16\n",
      "                 4                           5\n",
      "                 3                           4\n",
      "                 6                           3\n",
      "                 9                           3\n",
      "                 5                           2\n",
      "dtype: int64\n",
      "\n",
      "Count for YearsAtCompany1 and YearsWithCurrManager1:\n",
      "YearsAtCompany1  YearsWithCurrManager1\n",
      "0-10             0-8                      129\n",
      "dtype: int64\n",
      "\n",
      "Count for YearsSinceLastPromotion and YearsWithCurrManager1:\n",
      "YearsSinceLastPromotion  YearsWithCurrManager1\n",
      "0                        0-8                      45\n",
      "1                        0-8                      31\n",
      "2                        0-8                      23\n",
      "7                        0-8                      16\n",
      "3                        0-8                       7\n",
      "4                        0-8                       5\n",
      "6                        0-8                       4\n",
      "9                        0-8                       3\n",
      "11                       0-8                       2\n",
      "15                       0-8                       2\n",
      "5                        0-8                       1\n",
      "13                       0-8                       1\n",
      "dtype: int64\n",
      "\n"
     ]
    }
   ],
   "source": [
    "# all factors which need to be seggregated as intervals is done in below lines\n",
    "\n",
    "bins1 = [20, 30, 40]\n",
    "labels1 = ['20-30', '30-40']\n",
    "data['AgeInterval1'] = pd.cut(data['Age'], bins=bins1, labels=labels1)\n",
    "\n",
    "bins2 = [0, 10]\n",
    "labels2 = ['0-10']\n",
    "data['DistanceFromHomeInterval1'] = pd.cut(data['DistanceFromHome'], bins=bins2, labels=labels2)\n",
    "\n",
    "bins3 = [0, 10]\n",
    "labels3 = ['0-10']\n",
    "data['TotalWorkingYears1'] = pd.cut(data['TotalWorkingYears'], bins=bins3, labels=labels3)\n",
    "data['YearsAtCompany1'] = pd.cut(data['YearsAtCompany'], bins=bins3, labels=labels3)\n",
    "\n",
    "bins4 = [0, 5000,10000]\n",
    "labels4 = ['0-5000','5001-10000']\n",
    "data['MonthlyIncomeRange1'] = pd.cut(data['MonthlyIncome'], bins=bins4, labels=labels4)\n",
    "\n",
    "bins5=[0,8]\n",
    "labels5 = ['0-8']\n",
    "data['YearsWithCurrManager1'] = pd.cut(data['YearsWithCurrManager'], bins=bins5, labels=labels5)\n",
    "\n",
    "bins6=[3,4]\n",
    "labels5 = ['3-4']\n",
    "data['PerformanceRating1'] = pd.cut(data['PerformanceRating'], bins=bins5, labels=labels5)\n",
    "\n",
    "# Define the list of variables to consider\n",
    "variables = ['AgeInterval1', 'Department', 'DistanceFromHomeInterval1', 'Education', 'JobLevel', 'MonthlyIncomeRange1', 'NumCompaniesWorked', 'PerformanceRating1', 'StockOptionLevel', 'TotalWorkingYears1', 'YearsAtCompany1', 'YearsSinceLastPromotion', 'YearsWithCurrManager1']\n",
    "\n",
    "data_Education = data.loc[data['Education'] == \"Bachelor's\", variables]\n",
    "data_JobLevel = data.loc[data['JobLevel'] == 1, variables]\n",
    "data_NumCompaniesWorked1 = data.loc[data['NumCompaniesWorked'] == 1, variables]\n",
    "data_StockOptionLevel0 = data.loc[data['StockOptionLevel'] == 0, variables]\n",
    "data_YearsSinceLastPromotion = data.loc[data['YearsSinceLastPromotion'] == 0, variables]\n",
    "\n",
    "# Generate all combinations of two variables\n",
    "combinations = list(itertools.combinations(variables, 2))\n",
    "\n",
    "# Loop over each combination and perform the analysis\n",
    "for combination in combinations:\n",
    "    # Select the two variables in the combination\n",
    "    var1, var2 = combination\n",
    "    \n",
    "    # Count the number of employees who left the company for the combination of the two variables\n",
    "    count = data.loc[data['Attrition'] == 'Yes', [var1, var2]].value_counts()\n",
    "    \n",
    "    # Do whatever analysis you need to do with the count\n",
    "    # For example, you can print the count for each combination\n",
    "    print(f\"Count for {var1} and {var2}:\\n{count}\\n\")\n"
   ]
  },
  {
   "cell_type": "markdown",
   "id": "1e014462",
   "metadata": {},
   "source": [
    "## Result of Second Level Analysis\n",
    "### By Observing the second leve Analysis we were able to come to a conclusion that, many factors/ attributes we considered in the first step of Analysis is not truly contributing to the attrition, like years in current company, current managers etc. \n",
    "### we can clearly see highest attrition is happening is for whom the Salary is less than 10000 and the their stock option level  is low and most of them are from Research and development team and a good number from sale department. In conclusion their remuneration is low.One important fact of the employee who leave is, majority of them are with high performance rate retaining them will increase the profitability.  "
   ]
  },
  {
   "cell_type": "code",
   "execution_count": null,
   "id": "ea623991",
   "metadata": {},
   "outputs": [],
   "source": []
  }
 ],
 "metadata": {
  "kernelspec": {
   "display_name": "Python 3 (ipykernel)",
   "language": "python",
   "name": "python3"
  },
  "language_info": {
   "codemirror_mode": {
    "name": "ipython",
    "version": 3
   },
   "file_extension": ".py",
   "mimetype": "text/x-python",
   "name": "python",
   "nbconvert_exporter": "python",
   "pygments_lexer": "ipython3",
   "version": "3.9.13"
  }
 },
 "nbformat": 4,
 "nbformat_minor": 5
}
