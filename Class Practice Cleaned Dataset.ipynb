{
 "cells": [
  {
   "cell_type": "code",
   "execution_count": 1,
   "metadata": {},
   "outputs": [],
   "source": [
    "import pandas as pd"
   ]
  },
  {
   "cell_type": "markdown",
   "metadata": {},
   "source": [
    "### Skipping initital blank rows while importing the dataset"
   ]
  },
  {
   "cell_type": "code",
   "execution_count": 4,
   "metadata": {},
   "outputs": [],
   "source": [
    "data = pd.read_excel(r'....<your file link >\n",
    "                     ,skiprows=5)\n",
    "\n",
    "\n",
    "\n"
   ]
  },
  {
   "cell_type": "code",
   "execution_count": 5,
   "metadata": {},
   "outputs": [],
   "source": [
    "\n",
    "data = data.dropna(how= 'all', axis = 0 ) # Deleting totally blank rows\n",
    "data = data.dropna(how= 'all', axis = 1 ) # Deleting totally blank columns\n"
   ]
  },
  {
   "cell_type": "code",
   "execution_count": 6,
   "metadata": {},
   "outputs": [
    {
     "data": {
      "text/plain": [
       "Index([' Program Code    ', '  Program Name  ', 'Level',\n",
       "       'Number of Students  ', 'School', '   Deposit Amount '],\n",
       "      dtype='object')"
      ]
     },
     "execution_count": 6,
     "metadata": {},
     "output_type": "execute_result"
    }
   ],
   "source": [
    "data.columns  # There are extra trailing and leading spaces in column names"
   ]
  },
  {
   "cell_type": "code",
   "execution_count": 7,
   "metadata": {},
   "outputs": [],
   "source": [
    "data.columns = data.columns.str.strip() # stripping spaces from column names and reassigning the clean column names to the dataset"
   ]
  },
  {
   "cell_type": "code",
   "execution_count": 8,
   "metadata": {},
   "outputs": [],
   "source": [
    "data = data.replace(' ', None ) # replacing any spaces with Null values so that we can use fillna method"
   ]
  },
  {
   "cell_type": "code",
   "execution_count": 9,
   "metadata": {},
   "outputs": [],
   "source": [
    "data = data.dropna(subset = ['Level','Number of Students']) # Deleting all rows where Level and Number of Students are not mentioned. \n",
    "## this deletes all subtotals\n",
    "data = data.fillna(method = 'ffill') # Forward filling the dataset"
   ]
  },
  {
   "cell_type": "code",
   "execution_count": 10,
   "metadata": {},
   "outputs": [
    {
     "data": {
      "text/plain": [
       "5966.0"
      ]
     },
     "execution_count": 10,
     "metadata": {},
     "output_type": "execute_result"
    }
   ],
   "source": [
    "data['Number of Students'].sum()"
   ]
  },
  {
   "cell_type": "code",
   "execution_count": 11,
   "metadata": {},
   "outputs": [
    {
     "data": {
      "text/html": [
       "<div>\n",
       "<style scoped>\n",
       "    .dataframe tbody tr th:only-of-type {\n",
       "        vertical-align: middle;\n",
       "    }\n",
       "\n",
       "    .dataframe tbody tr th {\n",
       "        vertical-align: top;\n",
       "    }\n",
       "\n",
       "    .dataframe thead th {\n",
       "        text-align: right;\n",
       "    }\n",
       "</style>\n",
       "<table border=\"1\" class=\"dataframe\">\n",
       "  <thead>\n",
       "    <tr style=\"text-align: right;\">\n",
       "      <th></th>\n",
       "      <th>Program Code</th>\n",
       "      <th>Program Name</th>\n",
       "      <th>Level</th>\n",
       "      <th>Number of Students</th>\n",
       "      <th>School</th>\n",
       "      <th>Deposit Amount</th>\n",
       "    </tr>\n",
       "  </thead>\n",
       "  <tbody>\n",
       "    <tr>\n",
       "      <th>1</th>\n",
       "      <td>K3135</td>\n",
       "      <td>Medical Laboratory Science</td>\n",
       "      <td>S1</td>\n",
       "      <td>53.0</td>\n",
       "      <td>HS</td>\n",
       "      <td>500.0</td>\n",
       "    </tr>\n",
       "    <tr>\n",
       "      <th>2</th>\n",
       "      <td>K3135</td>\n",
       "      <td>Medical Laboratory Science</td>\n",
       "      <td>S3</td>\n",
       "      <td>38.0</td>\n",
       "      <td>HS</td>\n",
       "      <td>500.0</td>\n",
       "    </tr>\n",
       "    <tr>\n",
       "      <th>3</th>\n",
       "      <td>K3135</td>\n",
       "      <td>Medical Laboratory Science</td>\n",
       "      <td>S5</td>\n",
       "      <td>13.0</td>\n",
       "      <td>HS</td>\n",
       "      <td>500.0</td>\n",
       "    </tr>\n",
       "    <tr>\n",
       "      <th>4</th>\n",
       "      <td>K3135</td>\n",
       "      <td>Medical Laboratory Science</td>\n",
       "      <td>S6</td>\n",
       "      <td>9.0</td>\n",
       "      <td>HS</td>\n",
       "      <td>500.0</td>\n",
       "    </tr>\n",
       "    <tr>\n",
       "      <th>6</th>\n",
       "      <td>K3263</td>\n",
       "      <td>Advertising and Marketing Communications</td>\n",
       "      <td>S1</td>\n",
       "      <td>88.0</td>\n",
       "      <td>BUS</td>\n",
       "      <td>500.0</td>\n",
       "    </tr>\n",
       "    <tr>\n",
       "      <th>...</th>\n",
       "      <td>...</td>\n",
       "      <td>...</td>\n",
       "      <td>...</td>\n",
       "      <td>...</td>\n",
       "      <td>...</td>\n",
       "      <td>...</td>\n",
       "    </tr>\n",
       "    <tr>\n",
       "      <th>231</th>\n",
       "      <td>K1395</td>\n",
       "      <td>Pre-Health Sciences Pathway to Advanced Diplom...</td>\n",
       "      <td>S1</td>\n",
       "      <td>51.0</td>\n",
       "      <td>HS</td>\n",
       "      <td>500.0</td>\n",
       "    </tr>\n",
       "    <tr>\n",
       "      <th>233</th>\n",
       "      <td>F1202</td>\n",
       "      <td>Masters in Data Science</td>\n",
       "      <td>S1</td>\n",
       "      <td>97.0</td>\n",
       "      <td>STT</td>\n",
       "      <td>500.0</td>\n",
       "    </tr>\n",
       "    <tr>\n",
       "      <th>234</th>\n",
       "      <td>F1202</td>\n",
       "      <td>Masters in Data Science</td>\n",
       "      <td>S2</td>\n",
       "      <td>102.0</td>\n",
       "      <td>STT</td>\n",
       "      <td>500.0</td>\n",
       "    </tr>\n",
       "    <tr>\n",
       "      <th>235</th>\n",
       "      <td>F1202</td>\n",
       "      <td>Masters in Data Science</td>\n",
       "      <td>S3</td>\n",
       "      <td>45.0</td>\n",
       "      <td>STT</td>\n",
       "      <td>500.0</td>\n",
       "    </tr>\n",
       "    <tr>\n",
       "      <th>236</th>\n",
       "      <td>F1202</td>\n",
       "      <td>Masters in Data Science</td>\n",
       "      <td>S4</td>\n",
       "      <td>33.0</td>\n",
       "      <td>STT</td>\n",
       "      <td>500.0</td>\n",
       "    </tr>\n",
       "  </tbody>\n",
       "</table>\n",
       "<p>145 rows × 6 columns</p>\n",
       "</div>"
      ],
      "text/plain": [
       "    Program Code                                       Program Name Level  \\\n",
       "1          K3135                         Medical Laboratory Science    S1   \n",
       "2          K3135                         Medical Laboratory Science    S3   \n",
       "3          K3135                         Medical Laboratory Science    S5   \n",
       "4          K3135                         Medical Laboratory Science    S6   \n",
       "6          K3263           Advertising and Marketing Communications    S1   \n",
       "..           ...                                                ...   ...   \n",
       "231        K1395  Pre-Health Sciences Pathway to Advanced Diplom...    S1   \n",
       "233        F1202                            Masters in Data Science    S1   \n",
       "234        F1202                            Masters in Data Science    S2   \n",
       "235        F1202                            Masters in Data Science    S3   \n",
       "236        F1202                            Masters in Data Science    S4   \n",
       "\n",
       "     Number of Students School  Deposit Amount  \n",
       "1                  53.0     HS           500.0  \n",
       "2                  38.0     HS           500.0  \n",
       "3                  13.0     HS           500.0  \n",
       "4                   9.0     HS           500.0  \n",
       "6                  88.0    BUS           500.0  \n",
       "..                  ...    ...             ...  \n",
       "231                51.0     HS           500.0  \n",
       "233                97.0    STT           500.0  \n",
       "234               102.0    STT           500.0  \n",
       "235                45.0    STT           500.0  \n",
       "236                33.0    STT           500.0  \n",
       "\n",
       "[145 rows x 6 columns]"
      ]
     },
     "execution_count": 11,
     "metadata": {},
     "output_type": "execute_result"
    }
   ],
   "source": [
    "data "
   ]
  },
  {
   "cell_type": "code",
   "execution_count": null,
   "metadata": {},
   "outputs": [],
   "source": []
  }
 ],
 "metadata": {
  "kernelspec": {
   "display_name": "Python 3",
   "language": "python",
   "name": "python3"
  },
  "language_info": {
   "codemirror_mode": {
    "name": "ipython",
    "version": 3
   },
   "file_extension": ".py",
   "mimetype": "text/x-python",
   "name": "python",
   "nbconvert_exporter": "python",
   "pygments_lexer": "ipython3",
   "version": "3.8.5"
  }
 },
 "nbformat": 4,
 "nbformat_minor": 4
}
